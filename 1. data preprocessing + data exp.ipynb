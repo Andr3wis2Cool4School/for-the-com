{
 "cells": [
  {
   "cell_type": "markdown",
   "id": "9ea25ecb",
   "metadata": {},
   "source": [
    "# By Yifeng Luo"
   ]
  },
  {
   "cell_type": "markdown",
   "id": "88d8f450",
   "metadata": {},
   "source": [
    "# **Data preprocessing**\n",
    "\n",
    "- get each file's encode"
   ]
  },
  {
   "cell_type": "code",
   "execution_count": 23,
   "id": "4847baf0",
   "metadata": {},
   "outputs": [],
   "source": [
    "import numpy as np \n",
    "import pandas as pd \n",
    "import chardet"
   ]
  },
  {
   "cell_type": "code",
   "execution_count": 24,
   "id": "be56dead",
   "metadata": {},
   "outputs": [],
   "source": [
    "def get_encoding(file):\n",
    "    with open(file, 'rb') as f:\n",
    "        return chardet.detect(f.read())['encoding']"
   ]
  },
  {
   "cell_type": "code",
   "execution_count": 5,
   "id": "2dbdbcec",
   "metadata": {},
   "outputs": [
    {
     "data": {
      "text/plain": [
       "'UTF-8-SIG'"
      ]
     },
     "execution_count": 5,
     "metadata": {},
     "output_type": "execute_result"
    }
   ],
   "source": [
    "encode = get_encoding('./data/1afterlabel.csv')\n",
    "encode"
   ]
  },
  {
   "cell_type": "code",
   "execution_count": 10,
   "id": "cf848e9b",
   "metadata": {},
   "outputs": [
    {
     "data": {
      "text/plain": [
       "'utf-8'"
      ]
     },
     "execution_count": 10,
     "metadata": {},
     "output_type": "execute_result"
    }
   ],
   "source": [
    "encode = get_encoding('./data/so_sample_labelled.csv')\n",
    "encode"
   ]
  },
  {
   "cell_type": "markdown",
   "id": "d126b22e",
   "metadata": {},
   "source": [
    "- open them"
   ]
  },
  {
   "cell_type": "code",
   "execution_count": 25,
   "id": "73b70c6b",
   "metadata": {},
   "outputs": [
    {
     "data": {
      "text/html": [
       "<div>\n",
       "<style>\n",
       "    .dataframe thead tr:only-child th {\n",
       "        text-align: right;\n",
       "    }\n",
       "\n",
       "    .dataframe thead th {\n",
       "        text-align: left;\n",
       "    }\n",
       "\n",
       "    .dataframe tbody tr th {\n",
       "        vertical-align: top;\n",
       "    }\n",
       "</style>\n",
       "<table border=\"1\" class=\"dataframe\">\n",
       "  <thead>\n",
       "    <tr style=\"text-align: right;\">\n",
       "      <th></th>\n",
       "      <th>标题／微博内容</th>\n",
       "      <th>信息属性</th>\n",
       "      <th>原创/转发</th>\n",
       "      <th>发布日期</th>\n",
       "      <th>原微博内容</th>\n",
       "      <th>认证类型</th>\n",
       "      <th>地域</th>\n",
       "      <th>城市</th>\n",
       "      <th>性别</th>\n",
       "      <th>全文内容</th>\n",
       "      <th>...</th>\n",
       "      <th>精准地域</th>\n",
       "      <th>中图地址</th>\n",
       "      <th>MD5-作者ID</th>\n",
       "      <th>MD5-mid</th>\n",
       "      <th>MD5-根微博mid</th>\n",
       "      <th>MD5-根微博用户UID</th>\n",
       "      <th>MD5-父微博ID</th>\n",
       "      <th>MD5-父微博用户ID</th>\n",
       "      <th>Unnamed: 25</th>\n",
       "      <th>bot</th>\n",
       "    </tr>\n",
       "  </thead>\n",
       "  <tbody>\n",
       "    <tr>\n",
       "      <th>0</th>\n",
       "      <td>??</td>\n",
       "      <td>非敏感</td>\n",
       "      <td>转发</td>\n",
       "      <td>10/12/2020 16:29</td>\n",
       "      <td>@微博篮球 【转发抽湖人队帽衫】#为湖人夺冠换头像# ?湖！人！总！冠！军！?让我们一起更换...</td>\n",
       "      <td>普通</td>\n",
       "      <td>河北</td>\n",
       "      <td>石家庄</td>\n",
       "      <td>女</td>\n",
       "      <td>?? 【原微博】 @微博篮球 【转发抽湖人队帽衫】#为湖人夺冠换头像# ?湖！人！总！冠！军...</td>\n",
       "      <td>...</td>\n",
       "      <td>其他</td>\n",
       "      <td>[http://wx2.sinaimg.cn/bmiddle/00368BvZly1gjmd...</td>\n",
       "      <td>ffe0af798cc0a24f9fcca68e024de14f</td>\n",
       "      <td>08116557b1ff6203df59e9639327b501</td>\n",
       "      <td>828dc281f4581e0aa111c1ff90e14d4e</td>\n",
       "      <td>197f27361493e117d37977fea562d68e</td>\n",
       "      <td>828dc281f4581e0aa111c1ff90e14d4e</td>\n",
       "      <td>197f27361493e117d37977fea562d68e</td>\n",
       "      <td>NaN</td>\n",
       "      <td>1</td>\n",
       "    </tr>\n",
       "  </tbody>\n",
       "</table>\n",
       "<p>1 rows × 27 columns</p>\n",
       "</div>"
      ],
      "text/plain": [
       "  标题／微博内容 信息属性 原创/转发              发布日期  \\\n",
       "0     ??   非敏感    转发  10/12/2020 16:29   \n",
       "\n",
       "                                               原微博内容 认证类型  地域   城市 性别  \\\n",
       "0  @微博篮球 【转发抽湖人队帽衫】#为湖人夺冠换头像# ?湖！人！总！冠！军！?让我们一起更换...   普通  河北  石家庄  女   \n",
       "\n",
       "                                                全文内容 ...  精准地域  \\\n",
       "0  ?? 【原微博】 @微博篮球 【转发抽湖人队帽衫】#为湖人夺冠换头像# ?湖！人！总！冠！军... ...    其他   \n",
       "\n",
       "                                                中图地址  \\\n",
       "0  [http://wx2.sinaimg.cn/bmiddle/00368BvZly1gjmd...   \n",
       "\n",
       "                           MD5-作者ID                           MD5-mid  \\\n",
       "0  ffe0af798cc0a24f9fcca68e024de14f  08116557b1ff6203df59e9639327b501   \n",
       "\n",
       "                         MD5-根微博mid                      MD5-根微博用户UID  \\\n",
       "0  828dc281f4581e0aa111c1ff90e14d4e  197f27361493e117d37977fea562d68e   \n",
       "\n",
       "                          MD5-父微博ID                       MD5-父微博用户ID  \\\n",
       "0  828dc281f4581e0aa111c1ff90e14d4e  197f27361493e117d37977fea562d68e   \n",
       "\n",
       "  Unnamed: 25 bot  \n",
       "0         NaN   1  \n",
       "\n",
       "[1 rows x 27 columns]"
      ]
     },
     "execution_count": 25,
     "metadata": {},
     "output_type": "execute_result"
    }
   ],
   "source": [
    "# the en csv\n",
    "df1 = pd.read_csv('./data/1afterlabel.csv', encoding='UTF-8-SIG')\n",
    "df1.head(1)"
   ]
  },
  {
   "cell_type": "code",
   "execution_count": 35,
   "id": "9fc8d8dd",
   "metadata": {},
   "outputs": [
    {
     "data": {
      "text/html": [
       "<div>\n",
       "<style>\n",
       "    .dataframe thead tr:only-child th {\n",
       "        text-align: right;\n",
       "    }\n",
       "\n",
       "    .dataframe thead th {\n",
       "        text-align: left;\n",
       "    }\n",
       "\n",
       "    .dataframe tbody tr th {\n",
       "        vertical-align: top;\n",
       "    }\n",
       "</style>\n",
       "<table border=\"1\" class=\"dataframe\">\n",
       "  <thead>\n",
       "    <tr style=\"text-align: right;\">\n",
       "      <th></th>\n",
       "      <th>label</th>\n",
       "      <th>标题／微博内容</th>\n",
       "      <th>信息属性</th>\n",
       "      <th>原创/转发</th>\n",
       "      <th>发布日期</th>\n",
       "      <th>原微博内容</th>\n",
       "      <th>认证类型</th>\n",
       "      <th>地域</th>\n",
       "      <th>城市</th>\n",
       "      <th>性别</th>\n",
       "      <th>...</th>\n",
       "      <th>话题</th>\n",
       "      <th>微博情绪</th>\n",
       "      <th>精准地域</th>\n",
       "      <th>中图地址</th>\n",
       "      <th>MD5-作者ID</th>\n",
       "      <th>MD5-mid</th>\n",
       "      <th>MD5-根微博mid</th>\n",
       "      <th>MD5-根微博用户UID</th>\n",
       "      <th>MD5-父微博ID</th>\n",
       "      <th>MD5-父微博用户ID</th>\n",
       "    </tr>\n",
       "  </thead>\n",
       "  <tbody>\n",
       "    <tr>\n",
       "      <th>0</th>\n",
       "      <td>1.0</td>\n",
       "      <td>#腾讯中午的辣椒酱突然不香了##3人伪造老干妈印章与腾讯签合同# 【一瓶老干妈】淼哥读大学的...</td>\n",
       "      <td>非敏感</td>\n",
       "      <td>原创</td>\n",
       "      <td>7/1/2020 19:17</td>\n",
       "      <td></td>\n",
       "      <td>金V</td>\n",
       "      <td>广东</td>\n",
       "      <td></td>\n",
       "      <td>男</td>\n",
       "      <td>...</td>\n",
       "      <td>3人伪造老干妈印章与腾讯签合同;腾讯中午的辣椒酱突然不香了</td>\n",
       "      <td>喜悦</td>\n",
       "      <td>其他</td>\n",
       "      <td>[http://wx4.sinaimg.cn/bmiddle/853f0ed3gy1ggbo...</td>\n",
       "      <td>3e94630b688b7a8126ab1842d455081d</td>\n",
       "      <td>bcc71eb264dbca5337dfd00d3f64561d</td>\n",
       "      <td>NaN</td>\n",
       "      <td>NaN</td>\n",
       "      <td>NaN</td>\n",
       "      <td>NaN</td>\n",
       "    </tr>\n",
       "  </tbody>\n",
       "</table>\n",
       "<p>1 rows × 26 columns</p>\n",
       "</div>"
      ],
      "text/plain": [
       "   label                                            标题／微博内容 信息属性 原创/转发  \\\n",
       "0    1.0  #腾讯中午的辣椒酱突然不香了##3人伪造老干妈印章与腾讯签合同# 【一瓶老干妈】淼哥读大学的...  非敏感    原创   \n",
       "\n",
       "             发布日期 原微博内容 认证类型  地域 城市 性别     ...      \\\n",
       "0  7/1/2020 19:17         金V  广东     男     ...       \n",
       "\n",
       "                              话题  微博情绪  精准地域  \\\n",
       "0  3人伪造老干妈印章与腾讯签合同;腾讯中午的辣椒酱突然不香了    喜悦    其他   \n",
       "\n",
       "                                                中图地址  \\\n",
       "0  [http://wx4.sinaimg.cn/bmiddle/853f0ed3gy1ggbo...   \n",
       "\n",
       "                           MD5-作者ID                           MD5-mid  \\\n",
       "0  3e94630b688b7a8126ab1842d455081d  bcc71eb264dbca5337dfd00d3f64561d   \n",
       "\n",
       "  MD5-根微博mid MD5-根微博用户UID MD5-父微博ID MD5-父微博用户ID  \n",
       "0        NaN          NaN       NaN         NaN  \n",
       "\n",
       "[1 rows x 26 columns]"
      ]
     },
     "execution_count": 35,
     "metadata": {},
     "output_type": "execute_result"
    }
   ],
   "source": [
    "# co csv\n",
    "df2 = pd.read_csv('./data/co_sample.csv', encoding='utf8')\n",
    "df2.head(1)"
   ]
  },
  {
   "cell_type": "code",
   "execution_count": 36,
   "id": "ae5f264f",
   "metadata": {},
   "outputs": [
    {
     "data": {
      "text/html": [
       "<div>\n",
       "<style>\n",
       "    .dataframe thead tr:only-child th {\n",
       "        text-align: right;\n",
       "    }\n",
       "\n",
       "    .dataframe thead th {\n",
       "        text-align: left;\n",
       "    }\n",
       "\n",
       "    .dataframe tbody tr th {\n",
       "        vertical-align: top;\n",
       "    }\n",
       "</style>\n",
       "<table border=\"1\" class=\"dataframe\">\n",
       "  <thead>\n",
       "    <tr style=\"text-align: right;\">\n",
       "      <th></th>\n",
       "      <th>bot</th>\n",
       "      <th>标题／微博内容</th>\n",
       "      <th>信息属性</th>\n",
       "      <th>原创/转发</th>\n",
       "      <th>发布日期</th>\n",
       "      <th>原微博内容</th>\n",
       "      <th>认证类型</th>\n",
       "      <th>地域</th>\n",
       "      <th>城市</th>\n",
       "      <th>性别</th>\n",
       "      <th>...</th>\n",
       "      <th>话题</th>\n",
       "      <th>微博情绪</th>\n",
       "      <th>精准地域</th>\n",
       "      <th>中图地址</th>\n",
       "      <th>MD5-作者ID</th>\n",
       "      <th>MD5-mid</th>\n",
       "      <th>MD5-根微博mid</th>\n",
       "      <th>MD5-根微博用户UID</th>\n",
       "      <th>MD5-父微博ID</th>\n",
       "      <th>MD5-父微博用户ID</th>\n",
       "    </tr>\n",
       "  </thead>\n",
       "  <tbody>\n",
       "    <tr>\n",
       "      <th>0</th>\n",
       "      <td>0</td>\n",
       "      <td>家在小区尽头，快递站在小区里有好多个点偏偏放另外一个尽头的丰巢我每次都要走10分钟[doge...</td>\n",
       "      <td>非敏感</td>\n",
       "      <td>转发</td>\n",
       "      <td>5/9/2020 12:07</td>\n",
       "      <td>@蓝鲸财经记者工作平台 【#上海众小区联合抵制丰巢收费#，#丰巢称全国性措施暂不会改#】近日...</td>\n",
       "      <td>普通</td>\n",
       "      <td>上海</td>\n",
       "      <td></td>\n",
       "      <td>女</td>\n",
       "      <td>...</td>\n",
       "      <td>丰巢称全国性措施暂不会改;上海众小区联合抵制丰巢收费;杭州一小区因超时费停用丰巢</td>\n",
       "      <td>悲伤</td>\n",
       "      <td>上海市,上海</td>\n",
       "      <td>[http://wx3.sinaimg.cn/bmiddle/7061c249ly1gem0...</td>\n",
       "      <td>ff2bfbcb9da665d955cc9bffc80d2d87</td>\n",
       "      <td>ac006a168e14921704f93f6324f61e5e</td>\n",
       "      <td>80fe094e68fbc6b90528eae261a88be8</td>\n",
       "      <td>8643242d6d135c772a51b8b7f3bd0008</td>\n",
       "      <td>80fe094e68fbc6b90528eae261a88be8</td>\n",
       "      <td>8643242d6d135c772a51b8b7f3bd0008</td>\n",
       "    </tr>\n",
       "  </tbody>\n",
       "</table>\n",
       "<p>1 rows × 26 columns</p>\n",
       "</div>"
      ],
      "text/plain": [
       "   bot                                            标题／微博内容 信息属性 原创/转发  \\\n",
       "0    0  家在小区尽头，快递站在小区里有好多个点偏偏放另外一个尽头的丰巢我每次都要走10分钟[doge...  非敏感    转发   \n",
       "\n",
       "             发布日期                                              原微博内容 认证类型  地域  \\\n",
       "0  5/9/2020 12:07  @蓝鲸财经记者工作平台 【#上海众小区联合抵制丰巢收费#，#丰巢称全国性措施暂不会改#】近日...   普通  上海   \n",
       "\n",
       "  城市 性别                ...                 \\\n",
       "0     女                ...                  \n",
       "\n",
       "                                         话题  微博情绪    精准地域  \\\n",
       "0  丰巢称全国性措施暂不会改;上海众小区联合抵制丰巢收费;杭州一小区因超时费停用丰巢    悲伤  上海市,上海   \n",
       "\n",
       "                                                中图地址  \\\n",
       "0  [http://wx3.sinaimg.cn/bmiddle/7061c249ly1gem0...   \n",
       "\n",
       "                           MD5-作者ID                           MD5-mid  \\\n",
       "0  ff2bfbcb9da665d955cc9bffc80d2d87  ac006a168e14921704f93f6324f61e5e   \n",
       "\n",
       "                         MD5-根微博mid                      MD5-根微博用户UID  \\\n",
       "0  80fe094e68fbc6b90528eae261a88be8  8643242d6d135c772a51b8b7f3bd0008   \n",
       "\n",
       "                          MD5-父微博ID                       MD5-父微博用户ID  \n",
       "0  80fe094e68fbc6b90528eae261a88be8  8643242d6d135c772a51b8b7f3bd0008  \n",
       "\n",
       "[1 rows x 26 columns]"
      ]
     },
     "execution_count": 36,
     "metadata": {},
     "output_type": "execute_result"
    }
   ],
   "source": [
    "# so_sample_labelled\n",
    "\n",
    "df3 = pd.read_csv('./data/so_sample_labelled.csv', encoding='utf-8')\n",
    "df3.head(1)"
   ]
  },
  {
   "cell_type": "markdown",
   "id": "816380cb",
   "metadata": {},
   "source": [
    "### put them into one df"
   ]
  },
  {
   "cell_type": "code",
   "execution_count": 37,
   "id": "007f21c7",
   "metadata": {},
   "outputs": [],
   "source": [
    "df1 = df1[['bot', '原微博内容']]\n",
    "df2 = df2[['label', '原微博内容']]\n",
    "df3 = df3[['bot', '原微博内容']]"
   ]
  },
  {
   "cell_type": "code",
   "execution_count": 42,
   "id": "82d71979",
   "metadata": {
    "scrolled": true
   },
   "outputs": [],
   "source": [
    "def rename_col(df):\n",
    "    df.columns = ['bot', 'text']\n",
    "    return df\n",
    "\n",
    "df1 = rename_col(df1)\n",
    "df2 = rename_col(df2)\n",
    "df3 = rename_col(df3)"
   ]
  },
  {
   "cell_type": "code",
   "execution_count": 56,
   "id": "37937fc7",
   "metadata": {},
   "outputs": [],
   "source": [
    "# modify df2 a bit \n",
    "df2['bot'] = df2['bot'].fillna(0)"
   ]
  },
  {
   "cell_type": "code",
   "execution_count": 58,
   "id": "18f409df",
   "metadata": {},
   "outputs": [
    {
     "data": {
      "text/html": [
       "<div>\n",
       "<style>\n",
       "    .dataframe thead tr:only-child th {\n",
       "        text-align: right;\n",
       "    }\n",
       "\n",
       "    .dataframe thead th {\n",
       "        text-align: left;\n",
       "    }\n",
       "\n",
       "    .dataframe tbody tr th {\n",
       "        vertical-align: top;\n",
       "    }\n",
       "</style>\n",
       "<table border=\"1\" class=\"dataframe\">\n",
       "  <thead>\n",
       "    <tr style=\"text-align: right;\">\n",
       "      <th></th>\n",
       "      <th>bot</th>\n",
       "      <th>text</th>\n",
       "    </tr>\n",
       "  </thead>\n",
       "  <tbody>\n",
       "    <tr>\n",
       "      <th>0</th>\n",
       "      <td>1</td>\n",
       "      <td></td>\n",
       "    </tr>\n",
       "    <tr>\n",
       "      <th>1</th>\n",
       "      <td>1</td>\n",
       "      <td></td>\n",
       "    </tr>\n",
       "    <tr>\n",
       "      <th>2</th>\n",
       "      <td>1</td>\n",
       "      <td></td>\n",
       "    </tr>\n",
       "    <tr>\n",
       "      <th>3</th>\n",
       "      <td>1</td>\n",
       "      <td></td>\n",
       "    </tr>\n",
       "    <tr>\n",
       "      <th>4</th>\n",
       "      <td>1</td>\n",
       "      <td>@百度搜索 手里的瓜突然不香了……有一说一，这事与我无关。请大家不传谣不信谣，理性吃瓜。#3...</td>\n",
       "    </tr>\n",
       "  </tbody>\n",
       "</table>\n",
       "</div>"
      ],
      "text/plain": [
       "   bot                                               text\n",
       "0    1                                                   \n",
       "1    1                                                   \n",
       "2    1                                                   \n",
       "3    1                                                   \n",
       "4    1  @百度搜索 手里的瓜突然不香了……有一说一，这事与我无关。请大家不传谣不信谣，理性吃瓜。#3..."
      ]
     },
     "execution_count": 58,
     "metadata": {},
     "output_type": "execute_result"
    }
   ],
   "source": [
    "df2['bot'] = pd.to_numeric(df2['bot'], downcast='integer')\n",
    "df2.head()"
   ]
  },
  {
   "cell_type": "code",
   "execution_count": 59,
   "id": "07c50787",
   "metadata": {},
   "outputs": [
    {
     "name": "stdout",
     "output_type": "stream",
     "text": [
      "(5394, 2)\n"
     ]
    }
   ],
   "source": [
    "df = df1.append(df2)\n",
    "df = df.append(df3)\n",
    "print(df.shape)"
   ]
  },
  {
   "cell_type": "code",
   "execution_count": 61,
   "id": "62fdaf69",
   "metadata": {},
   "outputs": [
    {
     "data": {
      "text/html": [
       "<div>\n",
       "<style>\n",
       "    .dataframe thead tr:only-child th {\n",
       "        text-align: right;\n",
       "    }\n",
       "\n",
       "    .dataframe thead th {\n",
       "        text-align: left;\n",
       "    }\n",
       "\n",
       "    .dataframe tbody tr th {\n",
       "        vertical-align: top;\n",
       "    }\n",
       "</style>\n",
       "<table border=\"1\" class=\"dataframe\">\n",
       "  <thead>\n",
       "    <tr style=\"text-align: right;\">\n",
       "      <th></th>\n",
       "      <th>bot</th>\n",
       "      <th>text</th>\n",
       "    </tr>\n",
       "  </thead>\n",
       "  <tbody>\n",
       "    <tr>\n",
       "      <th>0</th>\n",
       "      <td>1</td>\n",
       "      <td>@微博篮球 【转发抽湖人队帽衫】#为湖人夺冠换头像# ?湖！人！总！冠！军！?让我们一起更换...</td>\n",
       "    </tr>\n",
       "    <tr>\n",
       "      <th>1</th>\n",
       "      <td>1</td>\n",
       "      <td>@体育小球迷迷妹 #体育#  [cp]#十年对比大赏# 跟随视频，回顾十年前后，湖人夺得总冠...</td>\n",
       "    </tr>\n",
       "    <tr>\n",
       "      <th>2</th>\n",
       "      <td>0</td>\n",
       "      <td>@星娱 #乘风破浪的姐姐成团之夜# 乐华七子加油秀《Blah-Blan丛林法则》朱正廷、范丞...</td>\n",
       "    </tr>\n",
       "    <tr>\n",
       "      <th>3</th>\n",
       "      <td>0</td>\n",
       "      <td>@乘风破浪的姐姐 原创音乐制作人、公演舞台《情人》原唱惊喜亮相[打call]@蔡徐坤 一起乘...</td>\n",
       "    </tr>\n",
       "    <tr>\n",
       "      <th>4</th>\n",
       "      <td>1</td>\n",
       "      <td>@综艺少女李大嘴 #姐姐成团之夜嘉宾阵容##蔡徐坤参加姐姐成团之夜# 《乘风破浪的姐姐》公布...</td>\n",
       "    </tr>\n",
       "  </tbody>\n",
       "</table>\n",
       "</div>"
      ],
      "text/plain": [
       "   bot                                               text\n",
       "0    1  @微博篮球 【转发抽湖人队帽衫】#为湖人夺冠换头像# ?湖！人！总！冠！军！?让我们一起更换...\n",
       "1    1  @体育小球迷迷妹 #体育#  [cp]#十年对比大赏# 跟随视频，回顾十年前后，湖人夺得总冠...\n",
       "2    0  @星娱 #乘风破浪的姐姐成团之夜# 乐华七子加油秀《Blah-Blan丛林法则》朱正廷、范丞...\n",
       "3    0  @乘风破浪的姐姐 原创音乐制作人、公演舞台《情人》原唱惊喜亮相[打call]@蔡徐坤 一起乘...\n",
       "4    1  @综艺少女李大嘴 #姐姐成团之夜嘉宾阵容##蔡徐坤参加姐姐成团之夜# 《乘风破浪的姐姐》公布..."
      ]
     },
     "execution_count": 61,
     "metadata": {},
     "output_type": "execute_result"
    }
   ],
   "source": [
    "df.head(5)"
   ]
  },
  {
   "cell_type": "markdown",
   "id": "3d23fcd1",
   "metadata": {},
   "source": [
    "- train set: 0.8\n",
    "- test set: 0.1\n",
    "- validation set: 0.1\n",
    "\n",
    "choose 66 as the random state for sklearn model train_test_split"
   ]
  },
  {
   "cell_type": "code",
   "execution_count": 63,
   "id": "8cbac73d",
   "metadata": {},
   "outputs": [],
   "source": [
    "from sklearn.model_selection import train_test_split"
   ]
  },
  {
   "cell_type": "code",
   "execution_count": 64,
   "id": "06e46ca1",
   "metadata": {},
   "outputs": [],
   "source": [
    "X_train, X_test_dev, y_train, y_test_dev = train_test_split(df.text, df.bot, test_size=0.2, random_state=66)\n"
   ]
  },
  {
   "cell_type": "code",
   "execution_count": 66,
   "id": "3975acc3",
   "metadata": {},
   "outputs": [
    {
     "data": {
      "text/html": [
       "<div>\n",
       "<style>\n",
       "    .dataframe thead tr:only-child th {\n",
       "        text-align: right;\n",
       "    }\n",
       "\n",
       "    .dataframe thead th {\n",
       "        text-align: left;\n",
       "    }\n",
       "\n",
       "    .dataframe tbody tr th {\n",
       "        vertical-align: top;\n",
       "    }\n",
       "</style>\n",
       "<table border=\"1\" class=\"dataframe\">\n",
       "  <thead>\n",
       "    <tr style=\"text-align: right;\">\n",
       "      <th></th>\n",
       "      <th>label</th>\n",
       "      <th>text</th>\n",
       "    </tr>\n",
       "  </thead>\n",
       "  <tbody>\n",
       "    <tr>\n",
       "      <th>73</th>\n",
       "      <td>0</td>\n",
       "      <td>@淘宝 #天猫双十一成交总额4982亿#谢谢有你！给参与了千亿大项目的你回回血！关?转，揪一...</td>\n",
       "    </tr>\n",
       "    <tr>\n",
       "      <th>1203</th>\n",
       "      <td>0</td>\n",
       "      <td>@游研社 腾讯官方发了这么个视频……#3人伪造老干妈印章与腾讯签合同#  http://t....</td>\n",
       "    </tr>\n",
       "    <tr>\n",
       "      <th>1885</th>\n",
       "      <td>1</td>\n",
       "      <td>@TFBOYS-王俊凯 #英雄联盟9周年#因为热爱，所以联盟！未来，和所有召唤师，战在一起！...</td>\n",
       "    </tr>\n",
       "    <tr>\n",
       "      <th>1824</th>\n",
       "      <td>1</td>\n",
       "      <td></td>\n",
       "    </tr>\n",
       "    <tr>\n",
       "      <th>545</th>\n",
       "      <td>1</td>\n",
       "      <td>@TFBOYS-王俊凯 #英雄联盟9周年#因为热爱，所以联盟！未来，和所有召唤师，战在一起！...</td>\n",
       "    </tr>\n",
       "  </tbody>\n",
       "</table>\n",
       "</div>"
      ],
      "text/plain": [
       "      label                                               text\n",
       "73        0  @淘宝 #天猫双十一成交总额4982亿#谢谢有你！给参与了千亿大项目的你回回血！关?转，揪一...\n",
       "1203      0  @游研社 腾讯官方发了这么个视频……#3人伪造老干妈印章与腾讯签合同#  http://t....\n",
       "1885      1  @TFBOYS-王俊凯 #英雄联盟9周年#因为热爱，所以联盟！未来，和所有召唤师，战在一起！...\n",
       "1824      1                                                   \n",
       "545       1  @TFBOYS-王俊凯 #英雄联盟9周年#因为热爱，所以联盟！未来，和所有召唤师，战在一起！..."
      ]
     },
     "execution_count": 66,
     "metadata": {},
     "output_type": "execute_result"
    }
   ],
   "source": [
    "# training csv\n",
    "train_df = dict()\n",
    "train_df['text'] = X_train\n",
    "train_df['label'] = y_train\n",
    "train_df = pd.DataFrame(train_df)\n",
    "train_df.head()"
   ]
  },
  {
   "cell_type": "code",
   "execution_count": 67,
   "id": "140b8e2f",
   "metadata": {},
   "outputs": [],
   "source": [
    "train_df.to_csv('./data/training_data.csv', index=False)"
   ]
  },
  {
   "cell_type": "code",
   "execution_count": 69,
   "id": "eaa95287",
   "metadata": {},
   "outputs": [],
   "source": [
    "# dev test csv\n",
    "X_test, X_dev, y_test, y_dev = train_test_split(X_test_dev, y_test_dev, test_size=0.5, random_state=66)"
   ]
  },
  {
   "cell_type": "code",
   "execution_count": 70,
   "id": "df5ebf17",
   "metadata": {},
   "outputs": [],
   "source": [
    "# test_csv dev_csv\n",
    "\n",
    "test_df = dict()\n",
    "dev_df = dict()\n",
    "\n",
    "test_df['text'] = X_test\n",
    "test_df['label'] = y_test\n",
    "\n",
    "dev_df['text'] = X_dev\n",
    "dev_df['label'] = y_dev\n",
    "\n",
    "test_df = pd.DataFrame(test_df)\n",
    "dev_df = pd.DataFrame(dev_df)"
   ]
  },
  {
   "cell_type": "code",
   "execution_count": 72,
   "id": "199661d6",
   "metadata": {},
   "outputs": [],
   "source": [
    "test_df.to_csv('./data/test_date.csv', index=False)\n",
    "dev_df.to_csv('./data/dev_data.csv', index=False)"
   ]
  },
  {
   "cell_type": "markdown",
   "id": "bd55b341",
   "metadata": {},
   "source": [
    "#  Data EXP"
   ]
  },
  {
   "cell_type": "code",
   "execution_count": 83,
   "id": "ddcf6c09",
   "metadata": {},
   "outputs": [],
   "source": [
    "import matplotlib.pyplot as plt\n",
    "%matplotlib inline"
   ]
  },
  {
   "cell_type": "code",
   "execution_count": 86,
   "id": "9b2c0dcf",
   "metadata": {},
   "outputs": [
    {
     "data": {
      "image/png": "[encoded data removed]",
      "text/plain": [
       "<Figure size 432x288 with 1 Axes>"
      ]
     },
     "metadata": {
      "needs_background": "light"
     },
     "output_type": "display_data"
    }
   ],
   "source": [
    "# training data\n",
    "is_bot = pd.value_counts(train_df['label'], sort=True).sort_index()\n",
    "is_bot.plot(kind='bar')\n",
    "plt.title('Is bot or not')\n",
    "plt.xlabel('Bot/Not Bot')\n",
    "plt.ylabel('Total')\n",
    "plt.show()"
   ]
  }
 ],
 "metadata": {
  "kernelspec": {
   "display_name": "Python 3",
   "language": "python",
   "name": "python3"
  },
  "language_info": {
   "codemirror_mode": {
    "name": "ipython",
    "version": 3
   },
   "file_extension": ".py",
   "mimetype": "text/x-python",
   "name": "python",
   "nbconvert_exporter": "python",
   "pygments_lexer": "ipython3",
   "version": "3.8.8"
  }
 },
 "nbformat": 4,
 "nbformat_minor": 5
}
