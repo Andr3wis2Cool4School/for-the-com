{
 "cells": [
  {
   "cell_type": "markdown",
   "id": "331a3078",
   "metadata": {},
   "source": [
    "# By Yifeng Luo"
   ]
  },
  {
   "cell_type": "code",
   "execution_count": 1,
   "id": "8885a6a9",
   "metadata": {},
   "outputs": [],
   "source": [
    "import numpy as np \n",
    "import pandas as pd "
   ]
  },
  {
   "cell_type": "code",
   "execution_count": 40,
   "id": "be7e877e",
   "metadata": {},
   "outputs": [],
   "source": [
    "training = pd.read_csv('./data/training_data.csv')\n",
    "test = pd.read_csv('./data/test_data.csv')\n",
    "dev = pd.read_csv('./data/dev_data.csv')"
   ]
  },
  {
   "cell_type": "markdown",
   "id": "da22637d",
   "metadata": {},
   "source": [
    "## need to clean data and restore them first\n",
    "\n",
    "# clean the data\n",
    "\n",
    "- using re to clean \n",
    "\n",
    "remove url or other stuff"
   ]
  },
  {
   "cell_type": "code",
   "execution_count": 41,
   "id": "8a15a9c3",
   "metadata": {},
   "outputs": [],
   "source": [
    "import re\n",
    "from string import digits\n",
    "from string import punctuation"
   ]
  },
  {
   "cell_type": "code",
   "execution_count": 42,
   "id": "d71beffd",
   "metadata": {},
   "outputs": [],
   "source": [
    "def clean(df):\n",
    "    rule = re.compile(u'[^a-zA-Z.,;《》？！“”‘’@#￥%…&×（）——+【】{};；●，。&～、|\\s:：'+digits+punctuation+'\\u4e00-\\u9fa5]+')\n",
    "    df['text']= df['text'].apply(lambda x: re.sub(rule , ' ', x))\n",
    "    df['text'] = df.text.apply(lambda x: re.sub('[!]+',' ', x))\n",
    "    df['text'] = df.text.apply(lambda x: re.sub('[.]+',' ', x))\n",
    "    df['text'] = df.text.apply(lambda x: re.sub('[。]+',' ', x))\n",
    "    df['text'] = df.text.apply(lambda x: re.sub('[、]+', ' ', x))\n",
    "    df['text'] = df.text.apply(lambda x: re.sub(' [#]+', ' ', x))\n",
    "    df['text'] = df.text.apply(lambda x: re.sub('#', ' ', x))\n",
    "    df['text'] = df.text.apply(lambda x: re.sub('//', ' ', x))\n",
    "    df['text'] = df.text.apply(lambda x: re.sub('[心]', ' ', x))\n",
    "    df['text'] = df.text.apply(lambda x: re.sub('@', ' ', x))\n",
    "    df['text'] = df.text.apply(lambda x: re.sub('拳头', ' ', x))\n",
    "    df['text'] = df.text.apply(lambda x: re.sub('!', ' ', x))\n",
    "    df['text'] = df.text.apply(lambda x: re.sub('！', ' ', x))\n",
    "    df['text'] = df.text.apply(lambda x: re.sub('[ ]', ' ', x))\n",
    "    df['text'] = df.text.apply(lambda x: re.sub(':', ' ', x))\n",
    "\n",
    "    return df\n",
    "    "
   ]
  },
  {
   "cell_type": "code",
   "execution_count": 43,
   "id": "60792d71",
   "metadata": {},
   "outputs": [],
   "source": [
    "training = clean(training)\n",
    "test = clean(test)\n",
    "dev = clean(dev)"
   ]
  },
  {
   "cell_type": "code",
   "execution_count": 44,
   "id": "4578a610",
   "metadata": {},
   "outputs": [
    {
     "data": {
      "text/html": [
       "<div>\n",
       "<style>\n",
       "    .dataframe thead tr:only-child th {\n",
       "        text-align: right;\n",
       "    }\n",
       "\n",
       "    .dataframe thead th {\n",
       "        text-align: left;\n",
       "    }\n",
       "\n",
       "    .dataframe tbody tr th {\n",
       "        vertical-align: top;\n",
       "    }\n",
       "</style>\n",
       "<table border=\"1\" class=\"dataframe\">\n",
       "  <thead>\n",
       "    <tr style=\"text-align: right;\">\n",
       "      <th></th>\n",
       "      <th>label</th>\n",
       "      <th>text</th>\n",
       "    </tr>\n",
       "  </thead>\n",
       "  <tbody>\n",
       "    <tr>\n",
       "      <th>0</th>\n",
       "      <td>0</td>\n",
       "      <td>淘宝 天猫双十一成交总额4982亿 谢谢有你 给参与了千亿大项目的你回回血 关?转，揪一个...</td>\n",
       "    </tr>\n",
       "    <tr>\n",
       "      <th>1</th>\n",
       "      <td>0</td>\n",
       "      <td>游研社 腾讯官方发了这么个视频…… 3人伪造老干妈印章与腾讯签合同   http  t c...</td>\n",
       "    </tr>\n",
       "    <tr>\n",
       "      <th>2</th>\n",
       "      <td>1</td>\n",
       "      <td>TFBOYS-王俊凯 英雄联盟9周年 因为热爱，所以联盟 未来，和所有召唤师，战在一起 （...</td>\n",
       "    </tr>\n",
       "    <tr>\n",
       "      <th>3</th>\n",
       "      <td>1</td>\n",
       "      <td></td>\n",
       "    </tr>\n",
       "    <tr>\n",
       "      <th>4</th>\n",
       "      <td>1</td>\n",
       "      <td>TFBOYS-王俊凯 英雄联盟9周年 因为热爱，所以联盟 未来，和所有召唤师，战在一起 （...</td>\n",
       "    </tr>\n",
       "  </tbody>\n",
       "</table>\n",
       "</div>"
      ],
      "text/plain": [
       "   label                                               text\n",
       "0      0   淘宝 天猫双十一成交总额4982亿 谢谢有你 给参与了千亿大项目的你回回血 关?转，揪一个...\n",
       "1      0   游研社 腾讯官方发了这么个视频…… 3人伪造老干妈印章与腾讯签合同   http  t c...\n",
       "2      1   TFBOYS-王俊凯 英雄联盟9周年 因为热爱，所以联盟 未来，和所有召唤师，战在一起 （...\n",
       "3      1                                                   \n",
       "4      1   TFBOYS-王俊凯 英雄联盟9周年 因为热爱，所以联盟 未来，和所有召唤师，战在一起 （..."
      ]
     },
     "execution_count": 44,
     "metadata": {},
     "output_type": "execute_result"
    }
   ],
   "source": [
    "training.head()"
   ]
  },
  {
   "cell_type": "code",
   "execution_count": 45,
   "id": "ca111d3f",
   "metadata": {},
   "outputs": [
    {
     "name": "stdout",
     "output_type": "stream",
     "text": [
      " .\t\t\t\t\t .git\r\n",
      " ..\t\t\t\t\t .gitignore\r\n",
      "'2. clean data.ipynb'\t\t\t .ipynb_checkpoints\r\n",
      " data\t\t\t\t\t nedata\r\n",
      "' data preprocessing + data exp.ipynb'\r\n"
     ]
    }
   ],
   "source": [
    "!ls -a "
   ]
  },
  {
   "cell_type": "code",
   "execution_count": 46,
   "id": "d33f0551",
   "metadata": {},
   "outputs": [],
   "source": [
    "training.to_csv('./nedata/training_data.csv', index=False)\n",
    "test.to_csv('./nedata/test_data.csv', index=False)\n",
    "dev.to_csv('./nedata/dev_data.csv', index=False)"
   ]
  }
 ],
 "metadata": {
  "kernelspec": {
   "display_name": "Python 3",
   "language": "python",
   "name": "python3"
  },
  "language_info": {
   "codemirror_mode": {
    "name": "ipython",
    "version": 3
   },
   "file_extension": ".py",
   "mimetype": "text/x-python",
   "name": "python",
   "nbconvert_exporter": "python",
   "pygments_lexer": "ipython3",
   "version": "3.8.8"
  }
 },
 "nbformat": 4,
 "nbformat_minor": 5
}
