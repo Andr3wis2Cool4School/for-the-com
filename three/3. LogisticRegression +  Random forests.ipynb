{
 "cells": [
  {
   "cell_type": "code",
   "execution_count": 1,
   "id": "838d9e0d",
   "metadata": {},
   "outputs": [],
   "source": [
    "import numpy as np \n",
    "import pandas as pd \n",
    "import matplotlib.pyplot as plt\n",
    "%matplotlib inline\n",
    "\n",
    "from sklearn.feature_extraction.text import CountVectorizer\n",
    "from sklearn.linear_model import LogisticRegression\n",
    "from sklearn.model_selection import KFold, cross_val_score\n",
    "from sklearn.metrics import confusion_matrix, recall_score, classification_report, accuracy_score\n",
    "\n",
    "import itertools"
   ]
  },
  {
   "cell_type": "markdown",
   "id": "7565523a",
   "metadata": {},
   "source": [
    "# co"
   ]
  },
  {
   "cell_type": "code",
   "execution_count": 3,
   "id": "b82de580",
   "metadata": {},
   "outputs": [],
   "source": [
    "training = pd.read_csv('./tdata/co_training.csv')\n",
    "test = pd.read_csv('./tdata/co_test.csv')\n",
    "dev = pd.read_csv('./tdata/co_dev.csv')"
   ]
  },
  {
   "cell_type": "code",
   "execution_count": 4,
   "id": "e301935f",
   "metadata": {},
   "outputs": [],
   "source": [
    "X_train = training.text.values\n",
    "y_train = training.label.values\n",
    "\n",
    "X_test = test.text.values\n",
    "y_test = test.label.values\n",
    "\n",
    "X_dev = dev.text.values\n",
    "y_dev = dev.label.values"
   ]
  },
  {
   "cell_type": "code",
   "execution_count": 5,
   "id": "32efb63b",
   "metadata": {},
   "outputs": [
    {
     "name": "stdout",
     "output_type": "stream",
     "text": [
      "X_train:  (980, 2112)\n",
      "X_test:  (123, 2112)\n",
      "X_dev:  (123, 2112)\n",
      "[[0 0 0 ... 0 0 0]]\n",
      "2112\n",
      "-------------------------------------------\n",
      "C parameter:  0.01\n",
      "-------------------------------------------\n",
      "\n",
      " recall score =  0.0\n",
      " recall score =  0.0\n",
      " recall score =  0.0\n",
      " recall score =  0.0\n",
      " recall score =  0.0\n",
      "\n",
      "Mean recall score  0.0\n",
      "\n",
      "-------------------------------------------\n",
      "C parameter:  0.1\n",
      "-------------------------------------------\n",
      "\n",
      " recall score =  0.0\n",
      " recall score =  0.0\n",
      " recall score =  0.0\n",
      " recall score =  0.0\n",
      " recall score =  0.0\n",
      "\n",
      "Mean recall score  0.0\n",
      "\n",
      "-------------------------------------------\n",
      "C parameter:  1\n",
      "-------------------------------------------\n",
      "\n",
      " recall score =  0.08108108108108109\n",
      " recall score =  0.275\n",
      " recall score =  0.3076923076923077\n",
      " recall score =  0.13953488372093023\n",
      " recall score =  0.12195121951219512\n",
      "\n",
      "Mean recall score  0.18505189840130282\n",
      "\n",
      "-------------------------------------------\n",
      "C parameter:  10\n",
      "-------------------------------------------\n",
      "\n",
      " recall score =  0.6756756756756757\n",
      " recall score =  0.725\n",
      " recall score =  0.7435897435897436\n",
      " recall score =  0.7674418604651163\n",
      " recall score =  0.6829268292682927\n",
      "\n",
      "Mean recall score  0.7189268217997656\n",
      "\n",
      "-------------------------------------------\n",
      "C parameter:  100\n",
      "-------------------------------------------\n",
      "\n",
      " recall score =  0.6756756756756757\n",
      " recall score =  0.725\n",
      " recall score =  0.7435897435897436\n",
      " recall score =  0.7674418604651163\n",
      " recall score =  0.6829268292682927\n",
      "\n",
      "Mean recall score  0.7189268217997656\n",
      "\n",
      "*********************************************************************************\n",
      "Best model to choose from cross validation is with C parameter =  10.0\n",
      "*********************************************************************************\n"
     ]
    }
   ],
   "source": [
    "vectorizer = CountVectorizer()\n",
    "\n",
    "def fit_ve(vectorizer, train, test, dev):\n",
    "    vectorizer.fit(train)\n",
    "    X_train = vectorizer.transform(train)\n",
    "    X_test = vectorizer.transform(test)\n",
    "    X_dev = vectorizer.transform(dev)\n",
    "        \n",
    "    return X_train, X_test, X_dev\n",
    "\n",
    "X_train, X_test, X_dev = fit_ve(vectorizer, X_train, X_test, X_dev)\n",
    "\n",
    "'''\n",
    "Rows and Columns in our metrics\n",
    "'''\n",
    "print('X_train: ', X_train.shape)\n",
    "print('X_test: ', X_test.shape)\n",
    "print('X_dev: ',X_dev.shape)\n",
    "\n",
    "'''\n",
    "Glance to what inside of the metric\n",
    "The very first row in the training metric\n",
    "\n",
    "the columns is 8673 which is correct\n",
    "\n",
    "'''\n",
    "\n",
    "print(X_train[0].toarray())\n",
    "print(len(*X_train[0].toarray()))\n",
    "\n",
    "'''\n",
    "Convert X_train, X_test, X_dev to dataframe\n",
    "'''\n",
    "\n",
    "X_train = pd.DataFrame(X_train.toarray())\n",
    "X_test = pd.DataFrame(X_test.toarray())\n",
    "X_dev = pd.DataFrame(X_dev.toarray())\n",
    "\n",
    "y_train = pd.DataFrame(y_train)\n",
    "y_test = pd.DataFrame(y_test)\n",
    "y_dev = pd.DataFrame(y_dev)\n",
    "\n",
    "def printing_Kfold_scores(x_train,y_train):\n",
    "    fold = KFold(n_splits=5,shuffle=False) \n",
    "\n",
    "    # Different C parameters\n",
    "    c_param_range = [0.01,0.1,1,10,100]\n",
    "\n",
    "    results_table = pd.DataFrame(index = range(len(c_param_range),2), columns = ['C_parameter','Mean recall score'])\n",
    "    results_table['C_parameter'] = c_param_range\n",
    "\n",
    "    \n",
    "    j = 0\n",
    "    for c_param in c_param_range:\n",
    "        print('-------------------------------------------')\n",
    "        print('C parameter: ', c_param)\n",
    "        print('-------------------------------------------')\n",
    "        print('')\n",
    "\n",
    "        recall_accs = []\n",
    "        for train_index, test_index in fold.split(x_train, y_train):\n",
    "\n",
    "\n",
    "            \n",
    "            lr = LogisticRegression(C = c_param, penalty = 'l1', solver='liblinear', max_iter=100000)\n",
    "\n",
    "            \n",
    "            lr.fit(x_train.iloc[train_index,:],y_train.iloc[train_index,:].values.ravel())\n",
    "\n",
    "            # Predict values using the test indices in the training data\n",
    "            y_pred = lr.predict(x_train.iloc[train_index,:].values)\n",
    "\n",
    "            # Calculate the recall score and append it to a list for recall scores representing the current c_parameter\n",
    "            recall_acc = recall_score(y_train.iloc[train_index,:].values,y_pred)\n",
    "            recall_accs.append(recall_acc)\n",
    "            print(' recall score = ', recall_acc)\n",
    "\n",
    "        # The mean value of those recall scores is the metric we want to save and get hold of.\n",
    "        results_table.iloc[j,results_table.columns.get_loc('Mean recall score')] = np.mean(recall_accs)\n",
    "        j += 1\n",
    "        print('')\n",
    "        print('Mean recall score ', np.mean(recall_accs))\n",
    "        print('')\n",
    "\n",
    "    best_c = results_table.loc[results_table['Mean recall score'].astype(float).idxmax()]['C_parameter']\n",
    "    \n",
    "    # Finally, we can check which C parameter is the best amongst the chosen.\n",
    "    print('*********************************************************************************')\n",
    "    print('Best model to choose from cross validation is with C parameter = ', best_c)\n",
    "    print('*********************************************************************************')\n",
    "    \n",
    "    return best_c\n",
    "\n",
    "\n",
    "best_c = printing_Kfold_scores(X_train, y_train)"
   ]
  },
  {
   "cell_type": "code",
   "execution_count": 6,
   "id": "efe79492",
   "metadata": {},
   "outputs": [],
   "source": [
    "def plot_confusion_matrix(cm, classes, title='Confusion Matrix', cmap=plt.cm.Blues):\n",
    "    plt.imshow(cm, interpolation='nearest', cmap=cmap)\n",
    "    plt.title(title)\n",
    "    plt.colorbar()\n",
    "    tick_marks = np.arange(len(classes))\n",
    "    plt.xticks(tick_marks, classes, rotation=0)\n",
    "    plt.yticks(tick_marks, classes)\n",
    "\n",
    "    thresh = cm.max() / 2.\n",
    "    for i, j in itertools.product(range(cm.shape[0]), range(cm.shape[1])):\n",
    "        plt.text(j, i, cm[i, j],\n",
    "                 horizontalalignment=\"center\",\n",
    "                 color=\"white\" if cm[i, j] > thresh else \"black\")\n",
    "\n",
    "    plt.tight_layout()\n",
    "    plt.ylabel('True label')\n",
    "    plt.xlabel('Predicted label')"
   ]
  },
  {
   "cell_type": "code",
   "execution_count": 7,
   "id": "71751eb5",
   "metadata": {},
   "outputs": [
    {
     "data": {
      "text/plain": [
       "array([0, 0, 0, 0, 0, 0, 0, 0, 0, 0, 0, 0, 0, 0, 0, 0, 0, 0, 0, 0, 0, 0,\n",
       "       0, 0, 0, 0, 0, 0, 0, 0, 1, 0, 0, 0, 0, 0, 0, 0, 0, 0, 0, 0, 0, 0,\n",
       "       0, 0, 0, 0, 0, 0, 0, 0, 0, 0, 0, 0, 0, 0, 0, 0, 0, 0, 0, 0, 0, 0,\n",
       "       0, 0, 0, 0, 0, 0, 0, 0, 0, 0, 0, 0, 0, 0, 0, 0, 0, 0, 0, 0, 0, 0,\n",
       "       0, 0, 0, 0, 0, 0, 0, 0, 0, 0, 0, 0, 0, 0, 0, 0, 0, 0, 0, 0, 0, 0,\n",
       "       0, 0, 0, 0, 0, 0, 0, 0, 0, 0, 0, 0, 0])"
      ]
     },
     "execution_count": 7,
     "metadata": {},
     "output_type": "execute_result"
    }
   ],
   "source": [
    "lr = LogisticRegression(C = best_c, penalty = 'l1', solver='liblinear')\n",
    "lr.fit(X_train,y_train.values.ravel())\n",
    "y_pred = lr.predict(X_test.values)\n",
    "y_pred"
   ]
  },
  {
   "cell_type": "code",
   "execution_count": 8,
   "id": "960b6a90",
   "metadata": {},
   "outputs": [
    {
     "name": "stdout",
     "output_type": "stream",
     "text": [
      "Recall metric in the testing dataset:  0.0\n"
     ]
    },
    {
     "data": {
      "image/png": "[encoded data removed]",
      "text/plain": [
       "<Figure size 432x288 with 2 Axes>"
      ]
     },
     "metadata": {
      "needs_background": "light"
     },
     "output_type": "display_data"
    }
   ],
   "source": [
    "cnf_matrix = confusion_matrix(y_test,y_pred)\n",
    "np.set_printoptions(precision=2)\n",
    "print(\"Recall metric in the testing dataset: \", cnf_matrix[1,1]/(cnf_matrix[1,0]+cnf_matrix[1,1]))\n",
    "# Plot non-normalized confusion matrix\n",
    "class_names = [0,1]\n",
    "plt.figure()\n",
    "plot_confusion_matrix(cnf_matrix\n",
    "                      , classes=class_names\n",
    "                      , title='Confusion matrix')\n",
    "plt.show()"
   ]
  },
  {
   "cell_type": "code",
   "execution_count": 9,
   "id": "740706d8",
   "metadata": {
    "scrolled": true
   },
   "outputs": [
    {
     "name": "stdout",
     "output_type": "stream",
     "text": [
      "Accuracy: 0.93\n"
     ]
    }
   ],
   "source": [
    "print(\"Accuracy: %.2f\" % accuracy_score(y_test,y_pred))"
   ]
  },
  {
   "cell_type": "markdown",
   "id": "ff59706c",
   "metadata": {},
   "source": [
    "# EN"
   ]
  },
  {
   "cell_type": "code",
   "execution_count": 13,
   "id": "e34d5d5f",
   "metadata": {},
   "outputs": [],
   "source": [
    "training = pd.read_csv('./tdata/en_training.csv')\n",
    "test = pd.read_csv('./tdata/en_test.csv')\n",
    "dev = pd.read_csv('./tdata/en_dev.csv')"
   ]
  },
  {
   "cell_type": "code",
   "execution_count": 14,
   "id": "436efabb",
   "metadata": {},
   "outputs": [],
   "source": [
    "X_train = training.text.values\n",
    "y_train = training.label.values\n",
    "\n",
    "X_test = test.text.values\n",
    "y_test = test.label.values\n",
    "\n",
    "X_dev = dev.text.values\n",
    "y_dev = dev.label.values"
   ]
  },
  {
   "cell_type": "code",
   "execution_count": 15,
   "id": "bdc7ea42",
   "metadata": {},
   "outputs": [
    {
     "name": "stdout",
     "output_type": "stream",
     "text": [
      "X_train:  (1679, 2422)\n",
      "X_test:  (210, 2422)\n",
      "X_dev:  (210, 2422)\n",
      "[[0 0 0 ... 0 0 0]]\n",
      "2422\n",
      "-------------------------------------------\n",
      "C parameter:  0.01\n",
      "-------------------------------------------\n",
      "\n",
      " recall score =  0.7239263803680982\n",
      " recall score =  0.7067901234567902\n",
      " recall score =  0.7295597484276729\n",
      " recall score =  0.729483282674772\n",
      " recall score =  0.7446808510638298\n",
      "\n",
      "Mean recall score  0.7268880771982327\n",
      "\n",
      "-------------------------------------------\n",
      "C parameter:  0.1\n",
      "-------------------------------------------\n",
      "\n",
      " recall score =  0.7239263803680982\n",
      " recall score =  0.7067901234567902\n",
      " recall score =  0.7295597484276729\n",
      " recall score =  0.729483282674772\n",
      " recall score =  0.7446808510638298\n",
      "\n",
      "Mean recall score  0.7268880771982327\n",
      "\n",
      "-------------------------------------------\n",
      "C parameter:  1\n",
      "-------------------------------------------\n",
      "\n",
      " recall score =  0.7944785276073619\n",
      " recall score =  0.808641975308642\n",
      " recall score =  0.8286163522012578\n",
      " recall score =  0.8449848024316109\n",
      " recall score =  0.8069908814589666\n",
      "\n",
      "Mean recall score  0.8167425078015679\n",
      "\n",
      "-------------------------------------------\n",
      "C parameter:  10\n",
      "-------------------------------------------\n",
      "\n",
      " recall score =  0.9141104294478528\n",
      " recall score =  0.9120370370370371\n",
      " recall score =  0.9135220125786163\n",
      " recall score =  0.9133738601823708\n",
      " recall score =  0.9148936170212766\n",
      "\n",
      "Mean recall score  0.9135873912534308\n",
      "\n",
      "-------------------------------------------\n",
      "C parameter:  100\n",
      "-------------------------------------------\n",
      "\n",
      " recall score =  0.9125766871165644\n",
      " recall score =  0.9135802469135802\n",
      " recall score =  0.9135220125786163\n",
      " recall score =  0.9133738601823708\n",
      " recall score =  0.9148936170212766\n",
      "\n",
      "Mean recall score  0.9135892847624817\n",
      "\n",
      "*********************************************************************************\n",
      "Best model to choose from cross validation is with C parameter =  100.0\n",
      "*********************************************************************************\n"
     ]
    }
   ],
   "source": [
    "vectorizer = CountVectorizer()\n",
    "\n",
    "def fit_ve(vectorizer, train, test, dev):\n",
    "    vectorizer.fit(train)\n",
    "    X_train = vectorizer.transform(train)\n",
    "    X_test = vectorizer.transform(test)\n",
    "    X_dev = vectorizer.transform(dev)\n",
    "        \n",
    "    return X_train, X_test, X_dev\n",
    "\n",
    "X_train, X_test, X_dev = fit_ve(vectorizer, X_train, X_test, X_dev)\n",
    "\n",
    "'''\n",
    "Rows and Columns in our metrics\n",
    "'''\n",
    "print('X_train: ', X_train.shape)\n",
    "print('X_test: ', X_test.shape)\n",
    "print('X_dev: ',X_dev.shape)\n",
    "\n",
    "'''\n",
    "Glance to what inside of the metric\n",
    "The very first row in the training metric\n",
    "\n",
    "the columns is 8673 which is correct\n",
    "\n",
    "'''\n",
    "\n",
    "print(X_train[0].toarray())\n",
    "print(len(*X_train[0].toarray()))\n",
    "\n",
    "'''\n",
    "Convert X_train, X_test, X_dev to dataframe\n",
    "'''\n",
    "\n",
    "X_train = pd.DataFrame(X_train.toarray())\n",
    "X_test = pd.DataFrame(X_test.toarray())\n",
    "X_dev = pd.DataFrame(X_dev.toarray())\n",
    "\n",
    "y_train = pd.DataFrame(y_train)\n",
    "y_test = pd.DataFrame(y_test)\n",
    "y_dev = pd.DataFrame(y_dev)\n",
    "\n",
    "def printing_Kfold_scores(x_train,y_train):\n",
    "    fold = KFold(n_splits=5,shuffle=False) \n",
    "\n",
    "    # Different C parameters\n",
    "    c_param_range = [0.01,0.1,1,10,100]\n",
    "\n",
    "    results_table = pd.DataFrame(index = range(len(c_param_range),2), columns = ['C_parameter','Mean recall score'])\n",
    "    results_table['C_parameter'] = c_param_range\n",
    "\n",
    "    \n",
    "    j = 0\n",
    "    for c_param in c_param_range:\n",
    "        print('-------------------------------------------')\n",
    "        print('C parameter: ', c_param)\n",
    "        print('-------------------------------------------')\n",
    "        print('')\n",
    "\n",
    "        recall_accs = []\n",
    "        for train_index, test_index in fold.split(x_train, y_train):\n",
    "\n",
    "\n",
    "            \n",
    "            lr = LogisticRegression(C = c_param, penalty = 'l1', solver='liblinear', max_iter=100000)\n",
    "\n",
    "            \n",
    "            lr.fit(x_train.iloc[train_index,:],y_train.iloc[train_index,:].values.ravel())\n",
    "\n",
    "            # Predict values using the test indices in the training data\n",
    "            y_pred = lr.predict(x_train.iloc[train_index,:].values)\n",
    "\n",
    "            # Calculate the recall score and append it to a list for recall scores representing the current c_parameter\n",
    "            recall_acc = recall_score(y_train.iloc[train_index,:].values,y_pred)\n",
    "            recall_accs.append(recall_acc)\n",
    "            print(' recall score = ', recall_acc)\n",
    "\n",
    "        # The mean value of those recall scores is the metric we want to save and get hold of.\n",
    "        results_table.iloc[j,results_table.columns.get_loc('Mean recall score')] = np.mean(recall_accs)\n",
    "        j += 1\n",
    "        print('')\n",
    "        print('Mean recall score ', np.mean(recall_accs))\n",
    "        print('')\n",
    "\n",
    "    best_c = results_table.loc[results_table['Mean recall score'].astype(float).idxmax()]['C_parameter']\n",
    "    \n",
    "    # Finally, we can check which C parameter is the best amongst the chosen.\n",
    "    print('*********************************************************************************')\n",
    "    print('Best model to choose from cross validation is with C parameter = ', best_c)\n",
    "    print('*********************************************************************************')\n",
    "    \n",
    "    return best_c\n",
    "\n",
    "\n",
    "best_c = printing_Kfold_scores(X_train, y_train)"
   ]
  },
  {
   "cell_type": "code",
   "execution_count": 16,
   "id": "de78826f",
   "metadata": {},
   "outputs": [
    {
     "data": {
      "text/plain": [
       "array([1, 0, 0, 0, 1, 0, 0, 1, 0, 1, 1, 1, 0, 0, 0, 1, 0, 0, 1, 0, 1, 0,\n",
       "       0, 1, 1, 0, 0, 1, 1, 0, 1, 0, 1, 0, 0, 1, 1, 1, 1, 0, 1, 0, 0, 0,\n",
       "       1, 0, 0, 1, 1, 0, 1, 0, 1, 1, 1, 0, 0, 0, 1, 0, 0, 0, 0, 0, 1, 0,\n",
       "       1, 0, 1, 1, 1, 1, 1, 0, 0, 0, 0, 1, 1, 1, 0, 0, 1, 0, 1, 0, 1, 1,\n",
       "       0, 0, 0, 1, 0, 0, 1, 1, 1, 0, 0, 0, 0, 0, 1, 1, 1, 1, 0, 1, 1, 1,\n",
       "       1, 1, 1, 0, 0, 1, 1, 0, 0, 0, 0, 0, 1, 0, 1, 0, 0, 0, 0, 1, 0, 1,\n",
       "       0, 0, 0, 1, 0, 0, 1, 1, 0, 0, 0, 0, 0, 0, 0, 1, 0, 1, 0, 0, 1, 0,\n",
       "       0, 1, 0, 0, 0, 0, 1, 0, 0, 1, 0, 1, 0, 1, 0, 1, 0, 0, 1, 0, 1, 1,\n",
       "       0, 1, 1, 1, 1, 0, 0, 1, 0, 1, 1, 1, 1, 1, 1, 1, 0, 0, 0, 0, 1, 1,\n",
       "       0, 0, 0, 1, 1, 1, 0, 0, 0, 0, 0, 1])"
      ]
     },
     "execution_count": 16,
     "metadata": {},
     "output_type": "execute_result"
    }
   ],
   "source": [
    "lr = LogisticRegression(C = best_c, penalty = 'l1', solver='liblinear')\n",
    "lr.fit(X_train,y_train.values.ravel())\n",
    "y_pred = lr.predict(X_test.values)\n",
    "y_pred"
   ]
  },
  {
   "cell_type": "code",
   "execution_count": 17,
   "id": "80ba20f7",
   "metadata": {},
   "outputs": [
    {
     "name": "stdout",
     "output_type": "stream",
     "text": [
      "Recall metric in the testing dataset:  0.8240740740740741\n"
     ]
    },
    {
     "data": {
      "image/png": "[encoded data removed]",
      "text/plain": [
       "<Figure size 432x288 with 2 Axes>"
      ]
     },
     "metadata": {
      "needs_background": "light"
     },
     "output_type": "display_data"
    }
   ],
   "source": [
    "cnf_matrix = confusion_matrix(y_test,y_pred)\n",
    "np.set_printoptions(precision=2)\n",
    "print(\"Recall metric in the testing dataset: \", cnf_matrix[1,1]/(cnf_matrix[1,0]+cnf_matrix[1,1]))\n",
    "# Plot non-normalized confusion matrix\n",
    "class_names = [0,1]\n",
    "plt.figure()\n",
    "plot_confusion_matrix(cnf_matrix\n",
    "                      , classes=class_names\n",
    "                      , title='Confusion matrix')\n",
    "plt.show()"
   ]
  },
  {
   "cell_type": "code",
   "execution_count": 18,
   "id": "aac156ca",
   "metadata": {},
   "outputs": [
    {
     "name": "stdout",
     "output_type": "stream",
     "text": [
      "Accuracy: 0.88\n"
     ]
    }
   ],
   "source": [
    "print(\"Accuracy: %.2f\" % accuracy_score(y_test,y_pred))"
   ]
  },
  {
   "cell_type": "markdown",
   "id": "9a51d98f",
   "metadata": {},
   "source": [
    "# SO"
   ]
  },
  {
   "cell_type": "code",
   "execution_count": 19,
   "id": "a07ae8be",
   "metadata": {},
   "outputs": [],
   "source": [
    "training = pd.read_csv('./tdata/so_training.csv')\n",
    "test = pd.read_csv('./tdata/so_test.csv')\n",
    "dev = pd.read_csv('./tdata/so_dev.csv')"
   ]
  },
  {
   "cell_type": "code",
   "execution_count": 20,
   "id": "cedf9944",
   "metadata": {},
   "outputs": [],
   "source": [
    "X_train = training.text.values\n",
    "y_train = training.label.values\n",
    "\n",
    "X_test = test.text.values\n",
    "y_test = test.label.values\n",
    "\n",
    "X_dev = dev.text.values\n",
    "y_dev = dev.label.values"
   ]
  },
  {
   "cell_type": "code",
   "execution_count": 21,
   "id": "c68c2ea1",
   "metadata": {},
   "outputs": [
    {
     "name": "stdout",
     "output_type": "stream",
     "text": [
      "X_train:  (1655, 6611)\n",
      "X_test:  (207, 6611)\n",
      "X_dev:  (207, 6611)\n",
      "[[0 0 0 ... 0 0 0]]\n",
      "6611\n",
      "-------------------------------------------\n",
      "C parameter:  0.01\n",
      "-------------------------------------------\n",
      "\n",
      " recall score =  0.44933920704845814\n",
      " recall score =  0.4538799414348463\n",
      " recall score =  0.45203488372093026\n",
      " recall score =  0.45441176470588235\n",
      " recall score =  0.4470588235294118\n",
      "\n",
      "Mean recall score  0.4513449240879058\n",
      "\n",
      "-------------------------------------------\n",
      "C parameter:  0.1\n",
      "-------------------------------------------\n",
      "\n",
      " recall score =  0.723935389133627\n",
      " recall score =  0.7437774524158126\n",
      " recall score =  0.751453488372093\n",
      " recall score =  0.7485294117647059\n",
      " recall score =  0.7455882352941177\n",
      "\n",
      "Mean recall score  0.7426567953960712\n",
      "\n",
      "-------------------------------------------\n",
      "C parameter:  1\n",
      "-------------------------------------------\n",
      "\n",
      " recall score =  0.8590308370044053\n",
      " recall score =  0.8799414348462665\n",
      " recall score =  0.8808139534883721\n",
      " recall score =  0.875\n",
      " recall score =  0.8720588235294118\n",
      "\n",
      "Mean recall score  0.8733690097736911\n",
      "\n",
      "-------------------------------------------\n",
      "C parameter:  10\n",
      "-------------------------------------------\n",
      "\n",
      " recall score =  0.9412628487518355\n",
      " recall score =  0.9546120058565154\n",
      " recall score =  0.9563953488372093\n",
      " recall score =  0.9470588235294117\n",
      " recall score =  0.9455882352941176\n",
      "\n",
      "Mean recall score  0.9489834524538179\n",
      "\n",
      "-------------------------------------------\n",
      "C parameter:  100\n",
      "-------------------------------------------\n",
      "\n",
      " recall score =  0.9441997063142438\n",
      " recall score =  0.9546120058565154\n",
      " recall score =  0.9563953488372093\n",
      " recall score =  0.9514705882352941\n",
      " recall score =  0.9455882352941176\n",
      "\n",
      "Mean recall score  0.950453176907476\n",
      "\n",
      "*********************************************************************************\n",
      "Best model to choose from cross validation is with C parameter =  100.0\n",
      "*********************************************************************************\n"
     ]
    }
   ],
   "source": [
    "vectorizer = CountVectorizer()\n",
    "\n",
    "def fit_ve(vectorizer, train, test, dev):\n",
    "    vectorizer.fit(train)\n",
    "    X_train = vectorizer.transform(train)\n",
    "    X_test = vectorizer.transform(test)\n",
    "    X_dev = vectorizer.transform(dev)\n",
    "        \n",
    "    return X_train, X_test, X_dev\n",
    "\n",
    "X_train, X_test, X_dev = fit_ve(vectorizer, X_train, X_test, X_dev)\n",
    "\n",
    "'''\n",
    "Rows and Columns in our metrics\n",
    "'''\n",
    "print('X_train: ', X_train.shape)\n",
    "print('X_test: ', X_test.shape)\n",
    "print('X_dev: ',X_dev.shape)\n",
    "\n",
    "'''\n",
    "Glance to what inside of the metric\n",
    "The very first row in the training metric\n",
    "\n",
    "the columns is 8673 which is correct\n",
    "\n",
    "'''\n",
    "\n",
    "print(X_train[0].toarray())\n",
    "print(len(*X_train[0].toarray()))\n",
    "\n",
    "'''\n",
    "Convert X_train, X_test, X_dev to dataframe\n",
    "'''\n",
    "\n",
    "X_train = pd.DataFrame(X_train.toarray())\n",
    "X_test = pd.DataFrame(X_test.toarray())\n",
    "X_dev = pd.DataFrame(X_dev.toarray())\n",
    "\n",
    "y_train = pd.DataFrame(y_train)\n",
    "y_test = pd.DataFrame(y_test)\n",
    "y_dev = pd.DataFrame(y_dev)\n",
    "\n",
    "def printing_Kfold_scores(x_train,y_train):\n",
    "    fold = KFold(n_splits=5,shuffle=False) \n",
    "\n",
    "    # Different C parameters\n",
    "    c_param_range = [0.01,0.1,1,10,100]\n",
    "\n",
    "    results_table = pd.DataFrame(index = range(len(c_param_range),2), columns = ['C_parameter','Mean recall score'])\n",
    "    results_table['C_parameter'] = c_param_range\n",
    "\n",
    "    \n",
    "    j = 0\n",
    "    for c_param in c_param_range:\n",
    "        print('-------------------------------------------')\n",
    "        print('C parameter: ', c_param)\n",
    "        print('-------------------------------------------')\n",
    "        print('')\n",
    "\n",
    "        recall_accs = []\n",
    "        for train_index, test_index in fold.split(x_train, y_train):\n",
    "\n",
    "\n",
    "            \n",
    "            lr = LogisticRegression(C = c_param, penalty = 'l1', solver='liblinear', max_iter=100000)\n",
    "\n",
    "            \n",
    "            lr.fit(x_train.iloc[train_index,:],y_train.iloc[train_index,:].values.ravel())\n",
    "\n",
    "            # Predict values using the test indices in the training data\n",
    "            y_pred = lr.predict(x_train.iloc[train_index,:].values)\n",
    "\n",
    "            # Calculate the recall score and append it to a list for recall scores representing the current c_parameter\n",
    "            recall_acc = recall_score(y_train.iloc[train_index,:].values,y_pred)\n",
    "            recall_accs.append(recall_acc)\n",
    "            print(' recall score = ', recall_acc)\n",
    "\n",
    "        # The mean value of those recall scores is the metric we want to save and get hold of.\n",
    "        results_table.iloc[j,results_table.columns.get_loc('Mean recall score')] = np.mean(recall_accs)\n",
    "        j += 1\n",
    "        print('')\n",
    "        print('Mean recall score ', np.mean(recall_accs))\n",
    "        print('')\n",
    "\n",
    "    best_c = results_table.loc[results_table['Mean recall score'].astype(float).idxmax()]['C_parameter']\n",
    "    \n",
    "    # Finally, we can check which C parameter is the best amongst the chosen.\n",
    "    print('*********************************************************************************')\n",
    "    print('Best model to choose from cross validation is with C parameter = ', best_c)\n",
    "    print('*********************************************************************************')\n",
    "    \n",
    "    return best_c\n",
    "\n",
    "\n",
    "best_c = printing_Kfold_scores(X_train, y_train)"
   ]
  },
  {
   "cell_type": "code",
   "execution_count": 22,
   "id": "88670a86",
   "metadata": {},
   "outputs": [
    {
     "data": {
      "text/plain": [
       "array([1, 0, 0, 1, 1, 0, 0, 1, 1, 1, 1, 0, 0, 0, 0, 0, 0, 1, 0, 1, 1, 1,\n",
       "       0, 0, 0, 0, 0, 0, 1, 0, 0, 1, 1, 1, 1, 0, 0, 0, 1, 0, 1, 0, 0, 1,\n",
       "       0, 0, 0, 0, 1, 1, 1, 0, 0, 0, 0, 0, 1, 1, 1, 1, 0, 0, 0, 0, 0, 0,\n",
       "       0, 1, 0, 0, 1, 1, 1, 0, 0, 1, 1, 1, 1, 1, 0, 1, 1, 1, 1, 0, 1, 0,\n",
       "       0, 0, 1, 1, 1, 1, 1, 1, 0, 0, 0, 0, 1, 1, 0, 1, 0, 1, 0, 0, 1, 0,\n",
       "       0, 1, 0, 1, 0, 0, 1, 0, 0, 1, 1, 1, 0, 0, 0, 0, 1, 0, 0, 0, 0, 0,\n",
       "       1, 0, 0, 1, 0, 0, 0, 0, 0, 1, 0, 0, 0, 1, 0, 0, 0, 0, 0, 0, 1, 0,\n",
       "       1, 1, 1, 1, 1, 1, 0, 1, 1, 1, 1, 1, 1, 0, 1, 1, 0, 1, 0, 0, 1, 0,\n",
       "       0, 0, 1, 1, 1, 0, 0, 1, 0, 0, 0, 0, 0, 0, 0, 0, 1, 1, 1, 1, 0, 1,\n",
       "       1, 0, 1, 1, 1, 0, 0, 0, 1])"
      ]
     },
     "execution_count": 22,
     "metadata": {},
     "output_type": "execute_result"
    }
   ],
   "source": [
    "lr = LogisticRegression(C = best_c, penalty = 'l1', solver='liblinear')\n",
    "lr.fit(X_train,y_train.values.ravel())\n",
    "y_pred = lr.predict(X_test.values)\n",
    "y_pred"
   ]
  },
  {
   "cell_type": "code",
   "execution_count": 23,
   "id": "8ae08d82",
   "metadata": {},
   "outputs": [
    {
     "name": "stdout",
     "output_type": "stream",
     "text": [
      "Recall metric in the testing dataset:  0.9032258064516129\n"
     ]
    },
    {
     "data": {
      "image/png": "[encoded data removed]",
      "text/plain": [
       "<Figure size 432x288 with 2 Axes>"
      ]
     },
     "metadata": {
      "needs_background": "light"
     },
     "output_type": "display_data"
    }
   ],
   "source": [
    "cnf_matrix = confusion_matrix(y_test,y_pred)\n",
    "np.set_printoptions(precision=2)\n",
    "print(\"Recall metric in the testing dataset: \", cnf_matrix[1,1]/(cnf_matrix[1,0]+cnf_matrix[1,1]))\n",
    "# Plot non-normalized confusion matrix\n",
    "class_names = [0,1]\n",
    "plt.figure()\n",
    "plot_confusion_matrix(cnf_matrix\n",
    "                      , classes=class_names\n",
    "                      , title='Confusion matrix')\n",
    "plt.show()"
   ]
  },
  {
   "cell_type": "code",
   "execution_count": 24,
   "id": "ce926656",
   "metadata": {},
   "outputs": [
    {
     "name": "stdout",
     "output_type": "stream",
     "text": [
      "Accuracy: 0.91\n"
     ]
    }
   ],
   "source": [
    "print(\"Accuracy: %.2f\" % accuracy_score(y_test,y_pred))"
   ]
  },
  {
   "cell_type": "markdown",
   "id": "67bd632a",
   "metadata": {},
   "source": [
    "#  Random forests"
   ]
  },
  {
   "cell_type": "code",
   "execution_count": 25,
   "id": "89b3024d",
   "metadata": {},
   "outputs": [],
   "source": [
    "# CO"
   ]
  },
  {
   "cell_type": "code",
   "execution_count": 26,
   "id": "c45f1713",
   "metadata": {},
   "outputs": [
    {
     "name": "stdout",
     "output_type": "stream",
     "text": [
      "Accuracy: 0.91\n",
      "Recall metric in the testing dataset:  0.9032258064516129\n"
     ]
    },
    {
     "data": {
      "image/png": "[encoded data removed]",
      "text/plain": [
       "<Figure size 432x288 with 2 Axes>"
      ]
     },
     "metadata": {
      "needs_background": "light"
     },
     "output_type": "display_data"
    }
   ],
   "source": [
    "from sklearn.ensemble import RandomForestClassifier\n",
    "\n",
    "training = pd.read_csv('./tdata/co_training.csv')\n",
    "test = pd.read_csv('./tdata/co_test.csv')\n",
    "dev = pd.read_csv('./tdata/co_dev.csv')\n",
    "\n",
    "forest = RandomForestClassifier(criterion = 'entropy'\n",
    "                                , n_estimators = 10\n",
    "                                , random_state = 1\n",
    "                                , n_jobs = 1)\n",
    "\n",
    "forest.fit(X_train, y_train.values.ravel())\n",
    "\n",
    "Y_pred_RF = forest.predict(X_test)\n",
    "print(\"Accuracy: %.2f\" % accuracy_score(y_test,Y_pred_RF))\n",
    "\n",
    "cnf_matrix = confusion_matrix(y_test,Y_pred_RF)\n",
    "np.set_printoptions(precision=2)\n",
    "print(\"Recall metric in the testing dataset: \", cnf_matrix[1,1]/(cnf_matrix[1,0]+cnf_matrix[1,1]))\n",
    "# Plot non-normalized confusion matrix\n",
    "class_names = [0,1]\n",
    "plt.figure()\n",
    "plot_confusion_matrix(cnf_matrix\n",
    "                      , classes=class_names\n",
    "                      , title='Confusion matrix')\n",
    "plt.show()"
   ]
  },
  {
   "cell_type": "code",
   "execution_count": 27,
   "id": "2b0392aa",
   "metadata": {},
   "outputs": [
    {
     "name": "stdout",
     "output_type": "stream",
     "text": [
      "Accuracy: 0.91\n",
      "Recall metric in the testing dataset:  0.9032258064516129\n"
     ]
    },
    {
     "data": {
      "image/png": "[encoded data removed]",
      "text/plain": [
       "<Figure size 432x288 with 2 Axes>"
      ]
     },
     "metadata": {
      "needs_background": "light"
     },
     "output_type": "display_data"
    }
   ],
   "source": [
    "from sklearn.ensemble import RandomForestClassifier\n",
    "\n",
    "training = pd.read_csv('./tdata/en_training.csv')\n",
    "test = pd.read_csv('./tdata/en_test.csv')\n",
    "dev = pd.read_csv('./tdata/en_dev.csv')\n",
    "\n",
    "forest = RandomForestClassifier(criterion = 'entropy'\n",
    "                                , n_estimators = 10\n",
    "                                , random_state = 1\n",
    "                                , n_jobs = 1)\n",
    "\n",
    "forest.fit(X_train, y_train.values.ravel())\n",
    "\n",
    "Y_pred_RF = forest.predict(X_test)\n",
    "print(\"Accuracy: %.2f\" % accuracy_score(y_test,Y_pred_RF))\n",
    "\n",
    "cnf_matrix = confusion_matrix(y_test,Y_pred_RF)\n",
    "np.set_printoptions(precision=2)\n",
    "print(\"Recall metric in the testing dataset: \", cnf_matrix[1,1]/(cnf_matrix[1,0]+cnf_matrix[1,1]))\n",
    "# Plot non-normalized confusion matrix\n",
    "class_names = [0,1]\n",
    "plt.figure()\n",
    "plot_confusion_matrix(cnf_matrix\n",
    "                      , classes=class_names\n",
    "                      , title='Confusion matrix')\n",
    "plt.show()"
   ]
  },
  {
   "cell_type": "code",
   "execution_count": 28,
   "id": "7754b1fe",
   "metadata": {},
   "outputs": [
    {
     "name": "stdout",
     "output_type": "stream",
     "text": [
      "Accuracy: 0.91\n",
      "Recall metric in the testing dataset:  0.9032258064516129\n"
     ]
    },
    {
     "data": {
      "image/png": "[encoded data removed]",
      "text/plain": [
       "<Figure size 432x288 with 2 Axes>"
      ]
     },
     "metadata": {
      "needs_background": "light"
     },
     "output_type": "display_data"
    }
   ],
   "source": [
    "from sklearn.ensemble import RandomForestClassifier\n",
    "\n",
    "training = pd.read_csv('./tdata/so_training.csv')\n",
    "test = pd.read_csv('./tdata/so_test.csv')\n",
    "dev = pd.read_csv('./tdata/so_dev.csv')\n",
    "\n",
    "forest = RandomForestClassifier(criterion = 'entropy'\n",
    "                                , n_estimators = 10\n",
    "                                , random_state = 1\n",
    "                                , n_jobs = 1)\n",
    "\n",
    "forest.fit(X_train, y_train.values.ravel())\n",
    "\n",
    "Y_pred_RF = forest.predict(X_test)\n",
    "print(\"Accuracy: %.2f\" % accuracy_score(y_test,Y_pred_RF))\n",
    "\n",
    "cnf_matrix = confusion_matrix(y_test,Y_pred_RF)\n",
    "np.set_printoptions(precision=2)\n",
    "print(\"Recall metric in the testing dataset: \", cnf_matrix[1,1]/(cnf_matrix[1,0]+cnf_matrix[1,1]))\n",
    "# Plot non-normalized confusion matrix\n",
    "class_names = [0,1]\n",
    "plt.figure()\n",
    "plot_confusion_matrix(cnf_matrix\n",
    "                      , classes=class_names\n",
    "                      , title='Confusion matrix')\n",
    "plt.show()"
   ]
  },
  {
   "cell_type": "code",
   "execution_count": null,
   "id": "47da6142",
   "metadata": {},
   "outputs": [],
   "source": []
  }
 ],
 "metadata": {
  "kernelspec": {
   "display_name": "Python 3",
   "language": "python",
   "name": "python3"
  },
  "language_info": {
   "codemirror_mode": {
    "name": "ipython",
    "version": 3
   },
   "file_extension": ".py",
   "mimetype": "text/x-python",
   "name": "python",
   "nbconvert_exporter": "python",
   "pygments_lexer": "ipython3",
   "version": "3.8.8"
  }
 },
 "nbformat": 4,
 "nbformat_minor": 5
}
