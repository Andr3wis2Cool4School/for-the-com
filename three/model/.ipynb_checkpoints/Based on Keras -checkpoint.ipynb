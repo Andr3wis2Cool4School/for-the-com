{
 "cells": [
  {
   "cell_type": "markdown",
   "metadata": {},
   "source": [
    "# Data prepare"
   ]
  },
  {
   "cell_type": "code",
   "execution_count": 3,
   "metadata": {},
   "outputs": [],
   "source": [
    "import pandas as pd\n",
    "import numpy as np\n",
    "import warnings\n",
    "warnings.filterwarnings(\"ignore\", category=UserWarning)"
   ]
  },
  {
   "cell_type": "code",
   "execution_count": 4,
   "metadata": {},
   "outputs": [],
   "source": [
    "train = pd.read_csv('../data/train.csv')\n",
    "dev = pd.read_csv('../data/dev.csv')\n",
    "test = pd.read_csv('../data/test.csv')\n",
    "\n",
    "sentences_train = train.Text.values\n",
    "sentences_dev = dev.Text.values\n",
    "sentences_test = test.Text.values\n",
    "\n",
    "y_train = train.Label.values\n",
    "y_dev = dev.Label.values\n",
    "y_test = test.Label.values"
   ]
  },
  {
   "cell_type": "markdown",
   "metadata": {},
   "source": [
    "# Logistic Regression\n",
    "\n",
    "feature extra"
   ]
  },
  {
   "cell_type": "code",
   "execution_count": 3,
   "metadata": {},
   "outputs": [],
   "source": [
    "# Bag-of-words\n",
    "from sklearn.feature_extraction.text import CountVectorizer"
   ]
  },
  {
   "cell_type": "code",
   "execution_count": 4,
   "metadata": {},
   "outputs": [
    {
     "name": "stdout",
     "output_type": "stream",
     "text": [
      "(31428, 127345)\n",
      "[[0 0 0 ... 0 0 0]]\n"
     ]
    }
   ],
   "source": [
    "vectorizer = CountVectorizer(min_df=0, lowercase=False)\n",
    "vectorizer.fit(sentences_train)\n",
    "X_train = vectorizer.transform(sentences_train)\n",
    "X_test = vectorizer.transform(sentences_test)\n",
    "X_dev = vectorizer.transform(sentences_dev)\n",
    "\n",
    "# glave\n",
    "print(X_train.shape)\n",
    "print(X_train[0].toarray())"
   ]
  },
  {
   "cell_type": "code",
   "execution_count": 5,
   "metadata": {},
   "outputs": [],
   "source": [
    "from sklearn.linear_model import LogisticRegression"
   ]
  },
  {
   "cell_type": "code",
   "execution_count": 6,
   "metadata": {},
   "outputs": [
    {
     "name": "stdout",
     "output_type": "stream",
     "text": [
      "Accuracy:  0.9958426132145508\n"
     ]
    }
   ],
   "source": [
    "classifier = LogisticRegression()\n",
    "classifier.fit(X_train, y_train)\n",
    "score = classifier.score(X_test, y_test)\n",
    "print('Accuracy: ', score)"
   ]
  },
  {
   "cell_type": "markdown",
   "metadata": {},
   "source": [
    "# plot history function"
   ]
  },
  {
   "cell_type": "code",
   "execution_count": 17,
   "metadata": {},
   "outputs": [],
   "source": [
    "import matplotlib.pyplot as plt\n",
    "def plot_history(history,name):\n",
    "    acc = history.history['accuracy']\n",
    "    val_acc = history.history['val_accuracy']\n",
    "    loss = history.history['loss']\n",
    "    val_loss = history.history['val_loss']\n",
    "    x = range(1, len(acc) + 1)\n",
    "\n",
    "    plt.figure(figsize=(12, 5))\n",
    "    plt.subplot(1, 2, 1)\n",
    "    plt.plot(x, acc, 'b', label='Training acc')\n",
    "    plt.plot(x, val_acc, 'r', label='Validation acc')\n",
    "    plt.title('Training and validation accuracy')\n",
    "    plt.legend()\n",
    "    plt.subplot(1, 2, 2)\n",
    "    plt.plot(x, loss, 'b', label='Training loss')\n",
    "    plt.plot(x, val_loss, 'r', label='Validation loss')\n",
    "    plt.title('Training and validation loss')\n",
    "    plt.legend()\n",
    "    #plt.show()\n",
    "    plt.savefig(str(name)+'.png')"
   ]
  },
  {
   "cell_type": "markdown",
   "metadata": {},
   "source": [
    "**Word Embeddings**"
   ]
  },
  {
   "cell_type": "code",
   "execution_count": 6,
   "metadata": {},
   "outputs": [
    {
     "name": "stdout",
     "output_type": "stream",
     "text": [
      "Num GPUS Available: 1\n"
     ]
    }
   ],
   "source": [
    "import tensorflow as tf \n",
    "physical_devices = tf.config.experimental.list_physical_devices('GPU')\n",
    "print('Num GPUS Available:', len(physical_devices))\n",
    "from tensorflow import keras \n",
    "from tensorflow.keras.models import Sequential\n",
    "from tensorflow.keras import layers"
   ]
  },
  {
   "cell_type": "code",
   "execution_count": 7,
   "metadata": {},
   "outputs": [],
   "source": [
    "from tensorflow.keras.preprocessing.text import Tokenizer"
   ]
  },
  {
   "cell_type": "code",
   "execution_count": 8,
   "metadata": {},
   "outputs": [
    {
     "name": "stdout",
     "output_type": "stream",
     "text": [
      "WASHINGTON (Reuters) - Public refusals on Wednesday by two U.S. Senate Republicans to support Betsy DeVos, President Donald Trump’s pick for education secretary, raised the possibility of a rare congressional rejection of a Cabinet nominee. In an ominous sign for Trump, Republican senators Susan Collins and Lisa Murkowski said they would not vote for DeVos, a billionaire philanthropist and charter-school advocate.  They would be the first Republicans to break party ranks and vote against one of Trump’s cabinet selections. Democrats, uniformly opposed to DeVos, are expected to oppose her as a block. They would only need for three Republicans to side with them to make DeVos just the 10th cabinet nominee in U.S. history to be rejected by Congress. Collins and Murkowski also created a possible speed bump in confirming another Trump nominee, that of Alabama Senator Jeff Sessions for Attorney General.  Once Sessions, who was approved by Senate Judiciary Committee on Tuesday, becomes the country’s top law enforcement officer, he will have to vacate his seat and can no longer cast a vote supporting DeVos. With voting margins so thin, his departure would put her nomination in peril. Soon after Collins and Murkowski staked out their opposition to DeVos, the White House said it is confident that she will ultimately be approved.  Senator John Cornyn, responsible for tallying Republican votes in the chamber, was also confident DeVos would be confirmed. Nonetheless, DeVos’ opponents kicked into high gear on Wednesday to press other Republican Senators to vote no when the chamber begins considering the nomination, expected on Friday at the earliest. “I cannot support this nominee,” Murkowski said in a floor speech saying she needed to make her intentions clear to her colleagues. DeVos’ nomination barely squeaked through a Senate committee vote on Tuesday, with both Collins and Murkowski saying they voted yes only so the entire Senate could debate the matter. Trump’s early nominations, primarily for security posts, had an easier time on Capitol Hill than names now before the Senate. Republicans hold majorities in both the Senate and House of Representatives, but Democrats have been on a blitz to try to block the nominations, often raising concerns about conflicts of interest. On Wednesday, the Senate Finance Committee had to suspend its rules to advance Treasury Secretary nominee Steve Mnuchin and Health Secretary nominee Tom Price to the full chamber for approval, the final step in the confirmation process.  Committee Democrats on Tuesday had boycotted the vote, forcing Republicans to scrap a requirement that at least one Democrat be present for a vote. Confirmation hearings for Labor Secretary nominee Andy Puzder have been indefinitely delayed over ethics filings. Meanwhile, the Senate confirmed Rex Tillerson as secretary of state on Wednesday, filling a key national security spot despite concerns about the former Exxon Mobil Corp (XOM.N) chief executive officer’s ties to Russia.  Education Secretary nominees are rarely the focus of congressional debate or political protests. DeVos, though, has faced unusually fierce opposition since her confirmation hearing, where she appeared unfamiliar with education laws and public school issues.  Old-guard Republicans including Former first ladies Barbara Bush and Laura Bush have defended her as a lifelong champion of low-income students and literacy. \n",
      "[107, 67, 170, 9, 205, 20, 95, 37, 8, 162, 143, 2, 159, 3599, 36, 71, 182, 1619, 10, 981, 225, 951, 1, 1770, 3, 4, 2672, 628, 3, 4, 1246, 458, 6, 30, 948, 10, 15, 79, 1096, 2650, 2870, 5, 4833, 12, 31, 35, 24, 163, 10, 3599, 4, 1582, 5, 386, 3157, 31, 35, 22, 1, 104, 143, 2, 1424, 103, 4051, 5, 163, 92, 51, 3, 182, 1246, 222, 1389, 2, 3599, 28, 465, 2, 2192, 54, 18, 4, 1377, 31, 35, 105, 241, 10, 218, 143, 2, 730, 16, 93, 2, 138, 3599, 82, 1, 1246, 458, 6, 37, 8, 484, 2, 22, 1530, 20, 206, 2870, 5, 61, 1009, 4, 469, 3563, 6, 201, 15, 458, 7, 3, 1741, 253, 1465, 967, 10, 481, 229, 455, 967, 29, 17, 1251, 20, 162, 1812, 231, 9, 197, 2725, 1, 3235, 283, 125, 735, 794, 13, 39, 23, 2, 19, 1437, 5, 75, 66, 982, 1547, 4, 163, 1362, 3599, 16, 698, 69, 4320, 19, 3192, 35, 275, 54, 821, 6, 884, 53, 2870, 5, 57, 41, 452, 2, 3599, 1, 89, 70, 12, 14, 11, 2984, 7, 52, 39, 1938, 22, 1251, 253, 337, 1188, 10, 79, 624, 6, 1, 2521, 17, 61, 2984, 3599, 35, 22, 842, 1681, 3914, 88, 309, 9, 205, 2, 345, 81, 79, 1096, 2, 163, 66, 60, 1, 2521, 3369, 1351, 1, 821, 465, 9, 209, 27, 1, 591, 736, 159, 26, 458, 47, 12, 6, 4, 1841, 315, 189, 52, 789, 2, 138, 54, 332, 2, 54, 2402, 821, 3877, 208, 4, 162, 231, 163, 9, 197, 16, 199, 2870, 5, 189, 31, 850, 1181, 105, 69, 1, 782, 162, 85, 526, 1, 381, 182, 554, 4546, 10, 124, 2010, 42, 30, 3189, 97, 9, 1844, 1592, 80, 1878, 100, 119, 1, 162, 143, 685, 6, 199, 1, 162, 5, 70, 3, 693, 32, 222, 23, 44, 9, 4, 2, 722, 2, 1377, 1, 752, 1817, 775, 38, 2509, 3, 837, 9, 205, 1, 162, 1367, 231, 42, 2, 4562, 64, 633, 2, 1890, 1682, 225, 458, 1520, 2416, 5, 312, 225, 458, 1842, 1422, 2, 1, 501, 2521, 10, 1446, 1, 928, 862, 6, 1, 1679, 499, 231, 222, 9, 197, 42, 1, 163, 3021, 143, 2, 4, 3915, 7, 27, 352, 51, 421, 22, 1640, 10, 4, 163, 1679, 3106, 10, 1241, 225, 458, 23, 44, 3886, 68, 2239, 2152, 1, 162, 842, 2133, 942, 18, 225, 3, 58, 9, 205, 4, 787, 129, 124, 3210, 506, 775, 38, 1, 108, 4693, 2011, 354, 317, 400, 672, 2, 156, 981, 225, 2881, 28, 4694, 1, 1150, 3, 628, 526, 48, 131, 961, 3599, 364, 21, 1635, 4861, 452, 134, 54, 1679, 865, 140, 52, 887, 16, 981, 727, 5, 170, 386, 464, 255, 1930, 143, 164, 108, 104, 673, 5, 673, 23, 2215, 54, 18, 4, 4434, 3, 871, 992, 614, 5]\n"
     ]
    }
   ],
   "source": [
    "tokenizer = Tokenizer(num_words=5000)\n",
    "tokenizer.fit_on_texts(sentences_train)\n",
    "\n",
    "X_train = tokenizer.texts_to_sequences(sentences_train)\n",
    "X_test = tokenizer.texts_to_sequences(sentences_test)\n",
    "X_dev = tokenizer.texts_to_sequences(sentences_dev)\n",
    "\n",
    "vocab_size = len(tokenizer.word_index) + 1\n",
    "print(sentences_train[2])\n",
    "print(X_train[2])"
   ]
  },
  {
   "cell_type": "code",
   "execution_count": 9,
   "metadata": {},
   "outputs": [],
   "source": [
    "# padding \n",
    "from tensorflow.keras.preprocessing.sequence import pad_sequences"
   ]
  },
  {
   "cell_type": "code",
   "execution_count": 10,
   "metadata": {},
   "outputs": [
    {
     "name": "stdout",
     "output_type": "stream",
     "text": [
      "[1779 1893 1949 ...    0    0    0]\n"
     ]
    }
   ],
   "source": [
    "maxlen = 3000\n",
    "X_train = pad_sequences(X_train, padding='post', maxlen=maxlen)\n",
    "X_test = pad_sequences(X_test, padding='post', maxlen=maxlen)\n",
    "X_dev = pad_sequences(X_dev, padding='post', maxlen=maxlen)\n",
    "print(X_train[0, :])"
   ]
  },
  {
   "cell_type": "markdown",
   "metadata": {},
   "source": [
    "# CNN flatten layer"
   ]
  },
  {
   "cell_type": "code",
   "execution_count": 11,
   "metadata": {},
   "outputs": [],
   "source": [
    "# embedding_dim = 50\n",
    "embedding_dim = 50\n",
    "model = Sequential()\n",
    "model.add(layers.Embedding(input_dim=vocab_size,\n",
    "                                                output_dim=embedding_dim,\n",
    "                                                input_length=maxlen))\n",
    "model.add(layers.Flatten()) # add flatten layer\n",
    "model.add(layers.Dense(10, activation='relu'))\n",
    "model.add(layers.Dense(1, activation='sigmoid'))"
   ]
  },
  {
   "cell_type": "code",
   "execution_count": 12,
   "metadata": {},
   "outputs": [
    {
     "name": "stdout",
     "output_type": "stream",
     "text": [
      "Model: \"sequential\"\n",
      "_________________________________________________________________\n",
      "Layer (type)                 Output Shape              Param #   \n",
      "=================================================================\n",
      "embedding (Embedding)        (None, 3000, 50)          5927400   \n",
      "_________________________________________________________________\n",
      "flatten (Flatten)            (None, 150000)            0         \n",
      "_________________________________________________________________\n",
      "dense (Dense)                (None, 10)                1500010   \n",
      "_________________________________________________________________\n",
      "dense_1 (Dense)              (None, 1)                 11        \n",
      "=================================================================\n",
      "Total params: 7,427,421\n",
      "Trainable params: 7,427,421\n",
      "Non-trainable params: 0\n",
      "_________________________________________________________________\n"
     ]
    }
   ],
   "source": [
    "model.compile(optimizer='adam',\n",
    "                        loss='binary_crossentropy',\n",
    "                        metrics=['accuracy'])\n",
    "model.summary()"
   ]
  },
  {
   "cell_type": "code",
   "execution_count": 13,
   "metadata": {},
   "outputs": [],
   "source": [
    "history = model.fit(X_train, y_train,\n",
    "                             epochs=20,\n",
    "                             verbose=False,\n",
    "                             validation_data=(X_dev, y_dev),\n",
    "                             batch_size=10)"
   ]
  },
  {
   "cell_type": "code",
   "execution_count": 14,
   "metadata": {},
   "outputs": [
    {
     "name": "stdout",
     "output_type": "stream",
     "text": [
      "Training Accuracy: 1.0000\n"
     ]
    }
   ],
   "source": [
    "loss, accuracy = model.evaluate(X_train, y_train, verbose=False)\n",
    "print(\"Training Accuracy: {:.4f}\".format(accuracy))"
   ]
  },
  {
   "cell_type": "code",
   "execution_count": 15,
   "metadata": {},
   "outputs": [
    {
     "name": "stdout",
     "output_type": "stream",
     "text": [
      "Testing Accuracy:  0.9988\n"
     ]
    }
   ],
   "source": [
    "loss, accuracy = model.evaluate(X_test, y_test, verbose=False)\n",
    "print(\"Testing Accuracy:  {:.4f}\".format(accuracy))"
   ]
  },
  {
   "cell_type": "code",
   "execution_count": 18,
   "metadata": {},
   "outputs": [
    {
     "data": {
      "image/png": "[encoded data removed]",
      "text/plain": [
       "<Figure size 864x360 with 2 Axes>"
      ]
     },
     "metadata": {
      "needs_background": "light"
     },
     "output_type": "display_data"
    }
   ],
   "source": [
    "plot_history(history,name='base_Embedding Layer')"
   ]
  },
  {
   "cell_type": "markdown",
   "metadata": {},
   "source": [
    "# Using CNN pooling layer"
   ]
  },
  {
   "cell_type": "code",
   "execution_count": 19,
   "metadata": {},
   "outputs": [
    {
     "name": "stdout",
     "output_type": "stream",
     "text": [
      "Model: \"sequential_1\"\n",
      "_________________________________________________________________\n",
      "Layer (type)                 Output Shape              Param #   \n",
      "=================================================================\n",
      "embedding_1 (Embedding)      (None, 3000, 50)          5927400   \n",
      "_________________________________________________________________\n",
      "global_max_pooling1d (Global (None, 50)                0         \n",
      "_________________________________________________________________\n",
      "dense_2 (Dense)              (None, 10)                510       \n",
      "_________________________________________________________________\n",
      "dense_3 (Dense)              (None, 1)                 11        \n",
      "=================================================================\n",
      "Total params: 5,927,921\n",
      "Trainable params: 5,927,921\n",
      "Non-trainable params: 0\n",
      "_________________________________________________________________\n"
     ]
    }
   ],
   "source": [
    "model = Sequential()\n",
    "model.add(layers.Embedding(input_dim=vocab_size,\n",
    "                                                output_dim=embedding_dim,\n",
    "                                                input_length=maxlen))\n",
    "model.add(layers.GlobalMaxPool1D())\n",
    "model.add(layers.Dense(10, activation='relu'))\n",
    "model.add(layers.Dense(1, activation='sigmoid'))\n",
    "model.compile(optimizer='adam',\n",
    "              loss='binary_crossentropy',\n",
    "              metrics=['accuracy'])\n",
    "model.summary()"
   ]
  },
  {
   "cell_type": "code",
   "execution_count": 22,
   "metadata": {
    "scrolled": true
   },
   "outputs": [
    {
     "name": "stdout",
     "output_type": "stream",
     "text": [
      "Epoch 1/20\n",
      "3143/3143 [==============================] - 217s 69ms/step - loss: 0.0059 - accuracy: 0.9984 - val_loss: 0.0039 - val_accuracy: 0.9987\n",
      "Epoch 2/20\n",
      "3143/3143 [==============================] - 216s 69ms/step - loss: 0.0031 - accuracy: 0.9990 - val_loss: 0.0029 - val_accuracy: 0.9985\n",
      "Epoch 3/20\n",
      "3143/3143 [==============================] - 216s 69ms/step - loss: 0.0013 - accuracy: 0.9996 - val_loss: 0.0023 - val_accuracy: 0.9991\n",
      "Epoch 4/20\n",
      "3143/3143 [==============================] - 216s 69ms/step - loss: 9.1441e-04 - accuracy: 0.9997 - val_loss: 0.0024 - val_accuracy: 0.9993\n",
      "Epoch 5/20\n",
      "3143/3143 [==============================] - 216s 69ms/step - loss: 5.0728e-04 - accuracy: 0.9999 - val_loss: 0.0032 - val_accuracy: 0.9990\n",
      "Epoch 6/20\n",
      "3143/3143 [==============================] - 216s 69ms/step - loss: 3.7252e-04 - accuracy: 1.0000 - val_loss: 0.0030 - val_accuracy: 0.9993\n",
      "Epoch 7/20\n",
      "3143/3143 [==============================] - 216s 69ms/step - loss: 2.9887e-04 - accuracy: 1.0000 - val_loss: 0.0033 - val_accuracy: 0.9990\n",
      "Epoch 8/20\n",
      "3143/3143 [==============================] - 216s 69ms/step - loss: 3.0237e-04 - accuracy: 1.0000 - val_loss: 0.0042 - val_accuracy: 0.9985\n",
      "Epoch 9/20\n",
      "3143/3143 [==============================] - 216s 69ms/step - loss: 2.8857e-04 - accuracy: 1.0000 - val_loss: 0.0039 - val_accuracy: 0.9987\n",
      "Epoch 10/20\n",
      "3143/3143 [==============================] - 220s 70ms/step - loss: 3.1091e-04 - accuracy: 1.0000 - val_loss: 0.0048 - val_accuracy: 0.9985\n",
      "Epoch 11/20\n",
      "3143/3143 [==============================] - 216s 69ms/step - loss: 2.9956e-04 - accuracy: 1.0000 - val_loss: 0.0050 - val_accuracy: 0.9988\n",
      "Epoch 12/20\n",
      "3143/3143 [==============================] - 216s 69ms/step - loss: 3.0822e-04 - accuracy: 1.0000 - val_loss: 0.0050 - val_accuracy: 0.9987\n",
      "Epoch 13/20\n",
      "3143/3143 [==============================] - 216s 69ms/step - loss: 2.4368e-04 - accuracy: 1.0000 - val_loss: 0.0050 - val_accuracy: 0.9987\n",
      "Epoch 14/20\n",
      "3143/3143 [==============================] - 216s 69ms/step - loss: 3.1264e-04 - accuracy: 1.0000 - val_loss: 0.0051 - val_accuracy: 0.9985\n",
      "Epoch 15/20\n",
      "3143/3143 [==============================] - 216s 69ms/step - loss: 2.7403e-04 - accuracy: 1.0000 - val_loss: 0.0048 - val_accuracy: 0.9985\n",
      "Epoch 16/20\n",
      "3143/3143 [==============================] - 216s 69ms/step - loss: 2.8145e-04 - accuracy: 1.0000 - val_loss: 0.0047 - val_accuracy: 0.9988\n",
      "Epoch 17/20\n",
      "3143/3143 [==============================] - 216s 69ms/step - loss: 3.2616e-04 - accuracy: 1.0000 - val_loss: 0.0049 - val_accuracy: 0.9988\n",
      "Epoch 18/20\n",
      "3143/3143 [==============================] - 216s 69ms/step - loss: 2.6056e-04 - accuracy: 1.0000 - val_loss: 0.0052 - val_accuracy: 0.9988\n",
      "Epoch 19/20\n",
      "3143/3143 [==============================] - 216s 69ms/step - loss: 2.9158e-04 - accuracy: 1.0000 - val_loss: 0.0056 - val_accuracy: 0.9990\n",
      "Epoch 20/20\n",
      "3143/3143 [==============================] - 216s 69ms/step - loss: 2.6970e-04 - accuracy: 1.0000 - val_loss: 0.0056 - val_accuracy: 0.9988\n"
     ]
    }
   ],
   "source": [
    "history = model.fit(X_train, y_train,\n",
    "                    epochs=20,\n",
    "                    validation_data=(X_dev, y_dev),\n",
    "                    batch_size=10)"
   ]
  },
  {
   "cell_type": "code",
   "execution_count": 23,
   "metadata": {},
   "outputs": [
    {
     "name": "stdout",
     "output_type": "stream",
     "text": [
      "Training Accuracy: 1.0000\n",
      "Testing Accuracy:  0.9981\n"
     ]
    },
    {
     "data": {
      "image/png": "[encoded data removed]",
      "text/plain": [
       "<Figure size 864x360 with 2 Axes>"
      ]
     },
     "metadata": {
      "needs_background": "light"
     },
     "output_type": "display_data"
    }
   ],
   "source": [
    "loss, accuracy = model.evaluate(X_train, y_train, verbose=False)\n",
    "print(\"Training Accuracy: {:.4f}\".format(accuracy))\n",
    "loss, accuracy = model.evaluate(X_test, y_test, verbose=False)\n",
    "print(\"Testing Accuracy:  {:.4f}\".format(accuracy))\n",
    "plot_history(history,name='pooling')"
   ]
  },
  {
   "cell_type": "code",
   "execution_count": null,
   "metadata": {},
   "outputs": [],
   "source": []
  }
 ],
 "metadata": {
  "kernelspec": {
   "display_name": "Python 3",
   "language": "python",
   "name": "python3"
  },
  "language_info": {
   "codemirror_mode": {
    "name": "ipython",
    "version": 3
   },
   "file_extension": ".py",
   "mimetype": "text/x-python",
   "name": "python",
   "nbconvert_exporter": "python",
   "pygments_lexer": "ipython3",
   "version": "3.8.5"
  }
 },
 "nbformat": 4,
 "nbformat_minor": 4
}
