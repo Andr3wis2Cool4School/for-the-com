{
 "cells": [
  {
   "cell_type": "code",
   "execution_count": 1,
   "id": "f9ffd2b1",
   "metadata": {},
   "outputs": [],
   "source": [
    "from predict import predict\n",
    "import pandas as pd"
   ]
  },
  {
   "cell_type": "code",
   "execution_count": 4,
   "id": "7b022e26",
   "metadata": {},
   "outputs": [
    {
     "name": "stdout",
     "output_type": "stream",
     "text": [
      "Using time: 0:00:04\n"
     ]
    }
   ],
   "source": [
    "bu_predict = predict('./test_data/bu_data.csv')"
   ]
  },
  {
   "cell_type": "code",
   "execution_count": 5,
   "id": "a7d0ea84",
   "metadata": {},
   "outputs": [
    {
     "name": "stdout",
     "output_type": "stream",
     "text": [
      "Using time: 0:00:05\n"
     ]
    }
   ],
   "source": [
    "en_predict = predict('./test_data/en_data.csv')"
   ]
  },
  {
   "cell_type": "code",
   "execution_count": 2,
   "id": "9b3c0199",
   "metadata": {},
   "outputs": [
    {
     "name": "stdout",
     "output_type": "stream",
     "text": [
      "Using time: 0:00:04\n"
     ]
    }
   ],
   "source": [
    "so_predict = predict('./test_data/so_data.csv')"
   ]
  },
  {
   "cell_type": "code",
   "execution_count": 6,
   "id": "978227bf",
   "metadata": {},
   "outputs": [
    {
     "name": "stdout",
     "output_type": "stream",
     "text": [
      "8000\n",
      "14000\n",
      "8000\n"
     ]
    }
   ],
   "source": [
    "# how many data\n",
    "print(len(bu_predict))\n",
    "print(len(en_predict))\n",
    "print(len(so_predict))"
   ]
  },
  {
   "cell_type": "code",
   "execution_count": 8,
   "id": "7363f161",
   "metadata": {},
   "outputs": [],
   "source": [
    "def count_bot(list):\n",
    "    a = 0\n",
    "    for i in list:\n",
    "        if i == 1:\n",
    "            a += 1\n",
    "    print(a)"
   ]
  },
  {
   "cell_type": "code",
   "execution_count": 9,
   "id": "30af7eff",
   "metadata": {},
   "outputs": [
    {
     "name": "stdout",
     "output_type": "stream",
     "text": [
      "104\n",
      "208\n",
      "1285\n"
     ]
    }
   ],
   "source": [
    "# how many bot\n",
    "count_bot(bu_predict)\n",
    "count_bot(en_predict)\n",
    "count_bot(so_predict)"
   ]
  },
  {
   "cell_type": "code",
   "execution_count": 10,
   "id": "15bc3a61",
   "metadata": {},
   "outputs": [],
   "source": [
    "bu = pd.read_csv('./test_data/bu_data.csv')\n",
    "en = pd.read_csv('./test_data/en_data.csv')\n",
    "so = pd.read_csv('./test_data/so_data.csv')"
   ]
  },
  {
   "cell_type": "code",
   "execution_count": 13,
   "id": "5b2ceb35",
   "metadata": {},
   "outputs": [],
   "source": [
    "bu['bot'] = bu_predict"
   ]
  },
  {
   "cell_type": "code",
   "execution_count": 15,
   "id": "1ced107e",
   "metadata": {},
   "outputs": [],
   "source": [
    "en['bot'] = en_predict"
   ]
  },
  {
   "cell_type": "code",
   "execution_count": 16,
   "id": "154614a8",
   "metadata": {},
   "outputs": [],
   "source": [
    "so['bot'] = so_predict"
   ]
  },
  {
   "cell_type": "code",
   "execution_count": 19,
   "id": "a17b38c6",
   "metadata": {},
   "outputs": [],
   "source": [
    "!mkdir data_with_label"
   ]
  },
  {
   "cell_type": "code",
   "execution_count": 20,
   "id": "fff6cbd5",
   "metadata": {},
   "outputs": [
    {
     "name": "stdout",
     "output_type": "stream",
     "text": [
      "'5. Bert model by pytorch.ipynb'    model\t\t save_dir\r\n",
      "'6. Bert BiLstm by Pytorch.ipynb'   predict_all.ipynb\t test_data\r\n",
      " bert_pretrain\t\t\t    predict.py\t\t train.py\r\n",
      " data\t\t\t\t    __pycache__\t\t Untitled.ipynb\r\n",
      " data_with_label\t\t    pytorch_pretrained\t utils.py\r\n"
     ]
    }
   ],
   "source": [
    "!ls"
   ]
  },
  {
   "cell_type": "code",
   "execution_count": 21,
   "id": "0f74e888",
   "metadata": {},
   "outputs": [],
   "source": [
    "bu.to_csv('./data_with_label/bu.csv')\n",
    "en.to_csv('./data_with_label/en.csv')\n",
    "so.to_csv('./data_with_label/so.csv')"
   ]
  }
 ],
 "metadata": {
  "kernelspec": {
   "display_name": "Python 3",
   "language": "python",
   "name": "python3"
  },
  "language_info": {
   "codemirror_mode": {
    "name": "ipython",
    "version": 3
   },
   "file_extension": ".py",
   "mimetype": "text/x-python",
   "name": "python",
   "nbconvert_exporter": "python",
   "pygments_lexer": "ipython3",
   "version": "3.6.13"
  }
 },
 "nbformat": 4,
 "nbformat_minor": 5
}
