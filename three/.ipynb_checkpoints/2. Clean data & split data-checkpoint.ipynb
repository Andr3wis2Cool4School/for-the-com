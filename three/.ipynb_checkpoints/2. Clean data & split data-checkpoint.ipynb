{
 "cells": [
  {
   "cell_type": "code",
   "execution_count": 17,
   "id": "b18a87a5",
   "metadata": {},
   "outputs": [],
   "source": [
    "import numpy as np \n",
    "import pandas as pd\n",
    "import re\n",
    "from string import digits\n",
    "from string import punctuation\n",
    "from sklearn.model_selection import train_test_split"
   ]
  },
  {
   "cell_type": "code",
   "execution_count": 13,
   "id": "7dffdf41",
   "metadata": {},
   "outputs": [],
   "source": [
    "df1 = pd.read_csv('./tdata/co.csv', names=['index', 'bot', 'text'])\n",
    "df2 = pd.read_csv('./tdata/en.csv', names=['index', 'bot', 'text'])\n",
    "df3 = pd.read_csv('./tdata/so.csv', names=['index', 'bot', 'text'])"
   ]
  },
  {
   "cell_type": "code",
   "execution_count": 14,
   "id": "69c1d165",
   "metadata": {},
   "outputs": [],
   "source": [
    "def clean(df):\n",
    "    rule = re.compile(u'[^a-zA-Z.,;《》？！“”‘’@#￥%…&×（）——+【】{};；●，。&～、|\\s:：'+digits+punctuation+'\\u4e00-\\u9fa5]+')\n",
    "    df['text']= df['text'].apply(lambda x: re.sub(rule , ' ', x))\n",
    "    df['text'] = df.text.apply(lambda x: re.sub('[!]+',' ', x))\n",
    "    df['text'] = df.text.apply(lambda x: re.sub('[.]+',' ', x))\n",
    "    df['text'] = df.text.apply(lambda x: re.sub('[。]+',' ', x))\n",
    "    df['text'] = df.text.apply(lambda x: re.sub('[、]+', ' ', x))\n",
    "    df['text'] = df.text.apply(lambda x: re.sub(' [#]+', ' ', x))\n",
    "    df['text'] = df.text.apply(lambda x: re.sub('#', ' ', x))\n",
    "    df['text'] = df.text.apply(lambda x: re.sub('//', ' ', x))\n",
    "    df['text'] = df.text.apply(lambda x: re.sub('[心]', ' ', x))\n",
    "    df['text'] = df.text.apply(lambda x: re.sub('@', ' ', x))\n",
    "    df['text'] = df.text.apply(lambda x: re.sub('拳头', ' ', x))\n",
    "    df['text'] = df.text.apply(lambda x: re.sub('!', ' ', x))\n",
    "    df['text'] = df.text.apply(lambda x: re.sub('！', ' ', x))\n",
    "    df['text'] = df.text.apply(lambda x: re.sub('[ ]', ' ', x))\n",
    "    df['text'] = df.text.apply(lambda x: re.sub(':', ' ', x))\n",
    "\n",
    "    return df"
   ]
  },
  {
   "cell_type": "code",
   "execution_count": 15,
   "id": "414f9228",
   "metadata": {},
   "outputs": [],
   "source": [
    "df1 = clean(df1)\n",
    "df2 = clean(df2)\n",
    "df3 = clean(df3)"
   ]
  },
  {
   "cell_type": "code",
   "execution_count": 18,
   "id": "397cf523",
   "metadata": {},
   "outputs": [],
   "source": [
    "# df1\n",
    "X_train, X_test_dev, y_train, y_test_dev = train_test_split(df1.text, df1.bot, test_size=0.2, random_state=66)"
   ]
  },
  {
   "cell_type": "code",
   "execution_count": 20,
   "id": "723f312e",
   "metadata": {},
   "outputs": [
    {
     "data": {
      "text/html": [
       "<div>\n",
       "<style scoped>\n",
       "    .dataframe tbody tr th:only-of-type {\n",
       "        vertical-align: middle;\n",
       "    }\n",
       "\n",
       "    .dataframe tbody tr th {\n",
       "        vertical-align: top;\n",
       "    }\n",
       "\n",
       "    .dataframe thead th {\n",
       "        text-align: right;\n",
       "    }\n",
       "</style>\n",
       "<table border=\"1\" class=\"dataframe\">\n",
       "  <thead>\n",
       "    <tr style=\"text-align: right;\">\n",
       "      <th></th>\n",
       "      <th>text</th>\n",
       "      <th>label</th>\n",
       "    </tr>\n",
       "  </thead>\n",
       "  <tbody>\n",
       "    <tr>\n",
       "      <th>35</th>\n",
       "      <td>敖子逸的正牌麻麻 拜托 搞清楚，腾讯自己的广告部门在百度搜索引擎上找业务误入诈骗网站，这...</td>\n",
       "      <td>1</td>\n",
       "    </tr>\n",
       "    <tr>\n",
       "      <th>967</th>\n",
       "      <td>转发微博</td>\n",
       "      <td>0</td>\n",
       "    </tr>\n",
       "    <tr>\n",
       "      <th>785</th>\n",
       "      <td>转发微博</td>\n",
       "      <td>0</td>\n",
       "    </tr>\n",
       "    <tr>\n",
       "      <th>152</th>\n",
       "      <td>转发微博</td>\n",
       "      <td>0</td>\n",
       "    </tr>\n",
       "    <tr>\n",
       "      <th>429</th>\n",
       "      <td>[二哈]</td>\n",
       "      <td>0</td>\n",
       "    </tr>\n",
       "  </tbody>\n",
       "</table>\n",
       "</div>"
      ],
      "text/plain": [
       "                                                  text  label\n",
       "35     敖子逸的正牌麻麻 拜托 搞清楚，腾讯自己的广告部门在百度搜索引擎上找业务误入诈骗网站，这...      1\n",
       "967                                              转发微博       0\n",
       "785                                              转发微博       0\n",
       "152                                              转发微博       0\n",
       "429                                              [二哈]       0"
      ]
     },
     "execution_count": 20,
     "metadata": {},
     "output_type": "execute_result"
    }
   ],
   "source": [
    "train_df = dict()\n",
    "train_df['text'] = X_train\n",
    "train_df['label'] = y_train\n",
    "train_df_co = pd.DataFrame(train_df)\n",
    "train_df_co.head()"
   ]
  },
  {
   "cell_type": "code",
   "execution_count": 21,
   "id": "b7edd1a4",
   "metadata": {},
   "outputs": [],
   "source": [
    "train_df_co.to_csv('./tdata/co_training.csv', index=False)"
   ]
  },
  {
   "cell_type": "code",
   "execution_count": 23,
   "id": "37f104c8",
   "metadata": {},
   "outputs": [],
   "source": [
    "X_test, X_dev, y_test, y_dev = train_test_split(X_test_dev, y_test_dev, test_size=0.5, random_state=66)"
   ]
  },
  {
   "cell_type": "code",
   "execution_count": 25,
   "id": "501db0e2",
   "metadata": {},
   "outputs": [],
   "source": [
    "# test_csv dev_csv\n",
    "\n",
    "test_df = dict()\n",
    "dev_df = dict()\n",
    "\n",
    "test_df['text'] = X_test\n",
    "test_df['label'] = y_test\n",
    "\n",
    "dev_df['text'] = X_dev\n",
    "dev_df['label'] = y_dev\n",
    "\n",
    "test_df_co = pd.DataFrame(test_df)\n",
    "dev_df_co = pd.DataFrame(dev_df)\n",
    "\n",
    "test_df_co.to_csv('./tdata/co_test.csv', index=False)\n",
    "dev_df_co.to_csv('./tdata/co_dev.csv', index=False)"
   ]
  },
  {
   "cell_type": "code",
   "execution_count": 26,
   "id": "09ab0320",
   "metadata": {},
   "outputs": [],
   "source": [
    "# df2\n",
    "X_train, X_test_dev, y_train, y_test_dev = train_test_split(df2.text, df2.bot, test_size=0.2, random_state=66)\n",
    "train_df = dict()\n",
    "train_df['text'] = X_train\n",
    "train_df['label'] = y_train\n",
    "train_df_en = pd.DataFrame(train_df)\n",
    "train_df_en.to_csv('./tdata/en_training.csv', index=False)\n",
    "X_test, X_dev, y_test, y_dev = train_test_split(X_test_dev, y_test_dev, test_size=0.5, random_state=66)\n",
    "test_df = dict()\n",
    "dev_df = dict()\n",
    "\n",
    "test_df['text'] = X_test\n",
    "test_df['label'] = y_test\n",
    "\n",
    "dev_df['text'] = X_dev\n",
    "dev_df['label'] = y_dev\n",
    "\n",
    "test_df_en = pd.DataFrame(test_df)\n",
    "dev_df_en= pd.DataFrame(dev_df)\n",
    "\n",
    "test_df_en.to_csv('./tdata/en_test.csv', index=False)\n",
    "dev_df_en.to_csv('./tdata/en_dev.csv', index=False)"
   ]
  },
  {
   "cell_type": "code",
   "execution_count": 27,
   "id": "9e1ae8c7",
   "metadata": {},
   "outputs": [],
   "source": [
    "# df3\n",
    "X_train, X_test_dev, y_train, y_test_dev = train_test_split(df3.text, df3.bot, test_size=0.2, random_state=66)\n",
    "train_df = dict()\n",
    "train_df['text'] = X_train\n",
    "train_df['label'] = y_train\n",
    "train_df_so = pd.DataFrame(train_df)\n",
    "train_df_so.to_csv('./tdata/so_training.csv', index=False)\n",
    "X_test, X_dev, y_test, y_dev = train_test_split(X_test_dev, y_test_dev, test_size=0.5, random_state=66)\n",
    "test_df = dict()\n",
    "dev_df = dict()\n",
    "\n",
    "test_df['text'] = X_test\n",
    "test_df['label'] = y_test\n",
    "\n",
    "dev_df['text'] = X_dev\n",
    "dev_df['label'] = y_dev\n",
    "\n",
    "test_df_so = pd.DataFrame(test_df)\n",
    "dev_df_so= pd.DataFrame(dev_df)\n",
    "\n",
    "test_df_so.to_csv('./tdata/so_test.csv', index=False)\n",
    "dev_df_so.to_csv('./tdata/so_dev.csv', index=False)"
   ]
  }
 ],
 "metadata": {
  "kernelspec": {
   "display_name": "Python 3",
   "language": "python",
   "name": "python3"
  },
  "language_info": {
   "codemirror_mode": {
    "name": "ipython",
    "version": 3
   },
   "file_extension": ".py",
   "mimetype": "text/x-python",
   "name": "python",
   "nbconvert_exporter": "python",
   "pygments_lexer": "ipython3",
   "version": "3.8.8"
  }
 },
 "nbformat": 4,
 "nbformat_minor": 5
}
