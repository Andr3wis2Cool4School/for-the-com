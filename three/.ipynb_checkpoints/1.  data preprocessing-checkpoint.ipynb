{
 "cells": [
  {
   "cell_type": "code",
   "execution_count": 1,
   "id": "66fb7779",
   "metadata": {},
   "outputs": [],
   "source": [
    "import numpy as np \n",
    "import pandas as pd "
   ]
  },
  {
   "cell_type": "code",
   "execution_count": 7,
   "id": "dc247a7f",
   "metadata": {},
   "outputs": [],
   "source": [
    "df1 = pd.read_csv('./tdata/co_sample_labelled_sen.csv', encoding='UTF-8-SIG')\n",
    "df2 = pd.read_csv('./tdata/en_sample_labelled_sen.csv', encoding='UTF-8-SIG')\n",
    "df3 = pd.read_csv('./tdata/so_sample_labelled_sen.csv', encoding='UTF-8-SIG')"
   ]
  },
  {
   "cell_type": "code",
   "execution_count": 8,
   "id": "e0e519cf",
   "metadata": {},
   "outputs": [],
   "source": [
    "df1 = df1[['bot', '标题／微博内容']]\n",
    "df2 = df2[['bot', '标题／微博内容']]\n",
    "df3 = df3[['bot', '标题／微博内容']]"
   ]
  },
  {
   "cell_type": "code",
   "execution_count": 9,
   "id": "ddf7970c",
   "metadata": {},
   "outputs": [],
   "source": [
    "df1.to_csv('./tdata/co.csv', header=None)\n",
    "df2.to_csv('./tdata/en.csv', header=None)\n",
    "df3.to_csv('./tdata/so.csv', header=None)"
   ]
  }
 ],
 "metadata": {
  "kernelspec": {
   "display_name": "Python 3",
   "language": "python",
   "name": "python3"
  },
  "language_info": {
   "codemirror_mode": {
    "name": "ipython",
    "version": 3
   },
   "file_extension": ".py",
   "mimetype": "text/x-python",
   "name": "python",
   "nbconvert_exporter": "python",
   "pygments_lexer": "ipython3",
   "version": "3.8.8"
  }
 },
 "nbformat": 4,
 "nbformat_minor": 5
}
