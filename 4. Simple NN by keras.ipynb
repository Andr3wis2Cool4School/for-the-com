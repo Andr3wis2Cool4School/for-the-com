{
 "cells": [
  {
   "cell_type": "markdown",
   "id": "af536c91",
   "metadata": {},
   "source": [
    "# By Yifeng Luo "
   ]
  },
  {
   "cell_type": "code",
   "execution_count": 1,
   "id": "6ab165a1",
   "metadata": {},
   "outputs": [
    {
     "name": "stdout",
     "output_type": "stream",
     "text": [
      "Num GPUS Available: 1\n"
     ]
    }
   ],
   "source": [
    "# quick test if the GPU is available ;) \n",
    "import tensorflow as tf \n",
    "\n",
    "print('Num GPUS Available:', len(tf.config.list_physical_devices('GPU')))"
   ]
  },
  {
   "cell_type": "code",
   "execution_count": 2,
   "id": "b895ff31",
   "metadata": {},
   "outputs": [],
   "source": [
    "from tensorflow import keras \n",
    "from tensorflow.keras.models import Sequential\n",
    "from tensorflow.keras import layers\n",
    "from tensorflow.keras.preprocessing.text import Tokenizer\n",
    "from tensorflow.keras.preprocessing.sequence import pad_sequences"
   ]
  },
  {
   "cell_type": "code",
   "execution_count": 3,
   "id": "9c3f6931",
   "metadata": {},
   "outputs": [],
   "source": [
    "# loadding the data\n",
    "import numpy as np \n",
    "import pandas as pd"
   ]
  },
  {
   "cell_type": "code",
   "execution_count": 4,
   "id": "54ed3c8e",
   "metadata": {},
   "outputs": [],
   "source": [
    "training = pd.read_csv('./nedata/training_data.csv')\n",
    "test = pd.read_csv('./nedata/test_data.csv')\n",
    "dev = pd.read_csv('./nedata/dev_data.csv')"
   ]
  },
  {
   "cell_type": "code",
   "execution_count": 5,
   "id": "f286b43d",
   "metadata": {},
   "outputs": [],
   "source": [
    "X_training = training.text.values\n",
    "X_test = test.text.values\n",
    "X_dev = dev.text.values\n",
    "\n",
    "y_training = training.label.values\n",
    "y_test = test.label.values\n",
    "y_dev = dev.label.values"
   ]
  },
  {
   "cell_type": "markdown",
   "id": "0f5d23ba",
   "metadata": {},
   "source": [
    "- **tokenize the sentence in data** \n",
    "- **convert them into index**"
   ]
  },
  {
   "cell_type": "code",
   "execution_count": 6,
   "id": "77b72c35",
   "metadata": {},
   "outputs": [
    {
     "name": "stdout",
     "output_type": "stream",
     "text": [
      "[5, 4, 8, 9, 10, 11, 6]\n"
     ]
    }
   ],
   "source": [
    "tokenizer = Tokenizer(num_words=5000)\n",
    "tokenizer.fit_on_texts(X_training)\n",
    "\n",
    "X_train = tokenizer.texts_to_sequences(X_training)\n",
    "X_test = tokenizer.texts_to_sequences(X_test)\n",
    "X_dev = tokenizer.texts_to_sequences(X_dev)\n",
    "\n",
    "vocab_size = len(tokenizer.word_index) + 1\n",
    "print(X_train[2])"
   ]
  },
  {
   "cell_type": "markdown",
   "id": "39cae11b",
   "metadata": {},
   "source": [
    "**padding our sentences make them the same length**"
   ]
  },
  {
   "cell_type": "code",
   "execution_count": 7,
   "id": "8568abed",
   "metadata": {},
   "outputs": [
    {
     "name": "stdout",
     "output_type": "stream",
     "text": [
      "[2225   16 2226 2227   15 2228   34    3    1    2 2229    0    0    0\n",
      "    0    0    0    0    0    0    0    0    0    0    0    0    0    0\n",
      "    0    0    0    0    0    0    0    0    0    0    0    0    0    0\n",
      "    0    0    0    0    0    0    0    0    0    0    0    0    0    0\n",
      "    0    0    0    0    0    0    0    0    0    0    0    0    0    0\n",
      "    0    0    0    0    0    0    0    0    0    0    0    0    0    0\n",
      "    0    0    0    0    0    0    0    0    0    0    0    0    0    0\n",
      "    0    0    0    0    0    0    0    0    0    0    0    0    0    0\n",
      "    0    0    0    0    0    0    0    0    0    0    0    0    0    0\n",
      "    0    0    0    0    0    0    0    0    0    0    0    0    0    0\n",
      "    0    0    0    0    0    0    0    0    0    0]\n"
     ]
    }
   ],
   "source": [
    "maxlen = 150\n",
    "X_train = pad_sequences(X_train, padding='post', maxlen=maxlen)\n",
    "X_test = pad_sequences(X_test, padding='post', maxlen=maxlen)\n",
    "X_dev = pad_sequences(X_dev, padding='post', maxlen=maxlen)\n",
    "print(X_train[0])"
   ]
  },
  {
   "cell_type": "code",
   "execution_count": 8,
   "id": "8541363d",
   "metadata": {},
   "outputs": [
    {
     "name": "stdout",
     "output_type": "stream",
     "text": [
      "150\n"
     ]
    }
   ],
   "source": [
    "print(len(X_train[0]))"
   ]
  },
  {
   "cell_type": "markdown",
   "id": "25d03c7a",
   "metadata": {},
   "source": [
    "### A plot function"
   ]
  },
  {
   "cell_type": "code",
   "execution_count": 9,
   "id": "e6cdb2d0",
   "metadata": {},
   "outputs": [],
   "source": [
    "import matplotlib.pyplot as plt\n",
    "\n",
    "def plot_history(history):\n",
    "    acc = history.history['accuracy']\n",
    "    val_acc = history.history['val_accuracy']\n",
    "    loss = history.history['loss']\n",
    "    val_loss = history.history['val_loss']\n",
    "    \n",
    "    x = range(1, len(acc) + 1) #200 1--200\n",
    "    plt.figure(figsize=(12,5))\n",
    "    plt.subplot(1, 2, 1)\n",
    "    plt.plot(x, acc, 'b', label='Training acc')\n",
    "    plt.plot(x, val_acc, 'r', label='Validation acc')\n",
    "    plt.title('Training and Validation accuracy')\n",
    "    plt.legend()\n",
    "    plt.subplot(1, 2, 2)\n",
    "    plt.plot(x, loss, 'b', label='Training Loss')\n",
    "    plt.plot(x, val_loss, 'r', label='Validation Loss')\n",
    "    plt.title('Training and Validation Loss')\n",
    "    plt.legend()\n",
    "    plt.show() "
   ]
  },
  {
   "cell_type": "markdown",
   "id": "6a386b4a",
   "metadata": {},
   "source": [
    "## word embedding methods we are using word2Vec pre-trained vectors from sogo\n",
    "\n",
    "see in this github page:https://github.com/Embedding/Chinese-Word-Vectors\n",
    "\n",
    "\n",
    "This is a 300 dims wordVectors"
   ]
  },
  {
   "cell_type": "code",
   "execution_count": 10,
   "id": "e8ca1db8",
   "metadata": {},
   "outputs": [],
   "source": [
    "def create_embedding_matrix(filepath, word_index, embedding_dim):\n",
    "    vocab_size = len(word_index) + 1\n",
    "    embedding_matrix = np.zeros((vocab_size, embedding_dim))\n",
    "    \n",
    "    with open(filepath) as f:\n",
    "        for line in f:\n",
    "            word, *vector = line.split()\n",
    "            if word in word_index:\n",
    "                idx = word_index[word]\n",
    "                embedding_matrix[idx] = np.array(\n",
    "                    vector, dtype=np.float32)[:embedding_dim]\n",
    "    return embedding_matrix"
   ]
  },
  {
   "cell_type": "code",
   "execution_count": 11,
   "id": "670c8e3a",
   "metadata": {},
   "outputs": [],
   "source": [
    "embedding_dim = 300\n",
    "embedding_matrix = create_embedding_matrix('./wordembedding/sgns.sogou.char', tokenizer.word_index, embedding_dim)"
   ]
  },
  {
   "cell_type": "markdown",
   "id": "22f0fd1c",
   "metadata": {},
   "source": [
    "**glance of the embedding matrix**"
   ]
  },
  {
   "cell_type": "code",
   "execution_count": 12,
   "id": "dec1aaa3",
   "metadata": {},
   "outputs": [
    {
     "data": {
      "text/plain": [
       "('t', 1)"
      ]
     },
     "execution_count": 12,
     "metadata": {},
     "output_type": "execute_result"
    }
   ],
   "source": [
    "dict_item = tokenizer.word_index.items()\n",
    "first_ele = list(dict_item)[0]\n",
    "first_ele"
   ]
  },
  {
   "cell_type": "code",
   "execution_count": 13,
   "id": "9e46fa5f",
   "metadata": {},
   "outputs": [
    {
     "name": "stdout",
     "output_type": "stream",
     "text": [
      "300\n",
      "[0. 0. 0. 0. 0. 0. 0. 0. 0. 0. 0. 0. 0. 0. 0. 0. 0. 0. 0. 0. 0. 0. 0. 0.\n",
      " 0. 0. 0. 0. 0. 0. 0. 0. 0. 0. 0. 0. 0. 0. 0. 0. 0. 0. 0. 0. 0. 0. 0. 0.\n",
      " 0. 0. 0. 0. 0. 0. 0. 0. 0. 0. 0. 0. 0. 0. 0. 0. 0. 0. 0. 0. 0. 0. 0. 0.\n",
      " 0. 0. 0. 0. 0. 0. 0. 0. 0. 0. 0. 0. 0. 0. 0. 0. 0. 0. 0. 0. 0. 0. 0. 0.\n",
      " 0. 0. 0. 0. 0. 0. 0. 0. 0. 0. 0. 0. 0. 0. 0. 0. 0. 0. 0. 0. 0. 0. 0. 0.\n",
      " 0. 0. 0. 0. 0. 0. 0. 0. 0. 0. 0. 0. 0. 0. 0. 0. 0. 0. 0. 0. 0. 0. 0. 0.\n",
      " 0. 0. 0. 0. 0. 0. 0. 0. 0. 0. 0. 0. 0. 0. 0. 0. 0. 0. 0. 0. 0. 0. 0. 0.\n",
      " 0. 0. 0. 0. 0. 0. 0. 0. 0. 0. 0. 0. 0. 0. 0. 0. 0. 0. 0. 0. 0. 0. 0. 0.\n",
      " 0. 0. 0. 0. 0. 0. 0. 0. 0. 0. 0. 0. 0. 0. 0. 0. 0. 0. 0. 0. 0. 0. 0. 0.\n",
      " 0. 0. 0. 0. 0. 0. 0. 0. 0. 0. 0. 0. 0. 0. 0. 0. 0. 0. 0. 0. 0. 0. 0. 0.\n",
      " 0. 0. 0. 0. 0. 0. 0. 0. 0. 0. 0. 0. 0. 0. 0. 0. 0. 0. 0. 0. 0. 0. 0. 0.\n",
      " 0. 0. 0. 0. 0. 0. 0. 0. 0. 0. 0. 0. 0. 0. 0. 0. 0. 0. 0. 0. 0. 0. 0. 0.\n",
      " 0. 0. 0. 0. 0. 0. 0. 0. 0. 0. 0. 0.]\n"
     ]
    }
   ],
   "source": [
    "print(len(embedding_matrix[0]))\n",
    "print(embedding_matrix[0])"
   ]
  },
  {
   "cell_type": "markdown",
   "id": "179eb501",
   "metadata": {},
   "source": [
    "## Simple NN"
   ]
  },
  {
   "cell_type": "code",
   "execution_count": 14,
   "id": "ab219a80",
   "metadata": {},
   "outputs": [
    {
     "name": "stdout",
     "output_type": "stream",
     "text": [
      "Model: \"sequential\"\n",
      "_________________________________________________________________\n",
      "Layer (type)                 Output Shape              Param #   \n",
      "=================================================================\n",
      "embedding (Embedding)        (None, 150, 300)          1701300   \n",
      "_________________________________________________________________\n",
      "dense (Dense)                (None, 150, 128)          38528     \n",
      "_________________________________________________________________\n",
      "dense_1 (Dense)              (None, 150, 64)           8256      \n",
      "_________________________________________________________________\n",
      "dense_2 (Dense)              (None, 150, 32)           2080      \n",
      "_________________________________________________________________\n",
      "dense_3 (Dense)              (None, 150, 1)            33        \n",
      "=================================================================\n",
      "Total params: 1,750,197\n",
      "Trainable params: 48,897\n",
      "Non-trainable params: 1,701,300\n",
      "_________________________________________________________________\n"
     ]
    }
   ],
   "source": [
    "model = Sequential()\n",
    "model.add(layers.Embedding(vocab_size, embedding_dim, weights=[embedding_matrix],\n",
    "                          input_length=maxlen, trainable=False))\n",
    "model.add(layers.Dense(128, activation='relu'))\n",
    "model.add(layers.Dense(64, activation='sigmoid'))\n",
    "model.add(layers.Dense(32, activation='sigmoid'))\n",
    "model.add(layers.Dense(1, activation='sigmoid'))\n",
    "model.compile(loss='binary_crossentropy', optimizer='adam', metrics=['accuracy'])\n",
    "model.summary()"
   ]
  },
  {
   "cell_type": "code",
   "execution_count": 15,
   "id": "bf55443e",
   "metadata": {},
   "outputs": [],
   "source": [
    "history = model.fit(X_train, y_training,\n",
    "                    epochs=30,\n",
    "                    validation_data=(X_dev, y_dev),\n",
    "                    verbose=False,\n",
    "                    batch_size=256)"
   ]
  },
  {
   "cell_type": "code",
   "execution_count": 16,
   "id": "0bafb2b8",
   "metadata": {},
   "outputs": [
    {
     "data": {
      "image/png": "[encoded data removed]",
      "text/plain": [
       "<Figure size 864x360 with 2 Axes>"
      ]
     },
     "metadata": {
      "needs_background": "light"
     },
     "output_type": "display_data"
    }
   ],
   "source": [
    "# plot acc and loss \n",
    "plot_history(history)"
   ]
  },
  {
   "cell_type": "code",
   "execution_count": 17,
   "id": "6e16a062",
   "metadata": {},
   "outputs": [
    {
     "name": "stdout",
     "output_type": "stream",
     "text": [
      "17/17 [==============================] - 0s 3ms/step - loss: 0.6593 - accuracy: 0.6273\n",
      "loss: 0.6592797040939331, accuracy: 0.6272974610328674\n"
     ]
    }
   ],
   "source": [
    "# evalate in test dataset\n",
    "loss, accuracy = model.evaluate(X_test, y_test)\n",
    "print('loss: {}, accuracy: {}'.format(loss, accuracy))"
   ]
  },
  {
   "cell_type": "markdown",
   "id": "70e395e9",
   "metadata": {},
   "source": [
    "### Confusion metrix"
   ]
  },
  {
   "cell_type": "code",
   "execution_count": 19,
   "id": "52c3938d",
   "metadata": {},
   "outputs": [],
   "source": [
    "%matplotlib inline\n",
    "from sklearn.metrics import confusion_matrix\n",
    "import itertools\n",
    "import matplotlib.pyplot as plt"
   ]
  },
  {
   "cell_type": "code",
   "execution_count": 28,
   "id": "c78b8100",
   "metadata": {},
   "outputs": [],
   "source": [
    "def plot_confusion_matrix(cm, classes, title='Confusion Matrix', cmap=plt.cm.Blues):\n",
    "    plt.imshow(cm, interpolation='nearest', cmap=cmap)\n",
    "    plt.title(title)\n",
    "    plt.colorbar()\n",
    "    tick_marks = np.arange(len(classes))\n",
    "    plt.xticks(tick_marks, classes, rotation=0)\n",
    "    plt.yticks(tick_marks, classes)\n",
    "\n",
    "    thresh = cm.max() / 2.\n",
    "    for i, j in itertools.product(range(cm.shape[0]), range(cm.shape[1])):\n",
    "        plt.text(j, i, cm[i, j],\n",
    "                 horizontalalignment=\"center\",\n",
    "                 color=\"white\" if cm[i, j] > thresh else \"black\")\n",
    "\n",
    "    plt.tight_layout()\n",
    "    plt.ylabel('True label')\n",
    "    plt.xlabel('Predicted label')"
   ]
  },
  {
   "cell_type": "code",
   "execution_count": 66,
   "id": "8a562617",
   "metadata": {},
   "outputs": [],
   "source": [
    "predictions = model.predict(x=X_test, batch_size=256, verbose=0)\n",
    "rounded_predictions = np.argmax(predictions, axis=1)\n",
    "# make sure argmax worked\n",
    "for index, i in enumerate(rounded_predictions):\n",
    "    if i > 1:\n",
    "        rounded_predictions[index] = [1]"
   ]
  },
  {
   "cell_type": "code",
   "execution_count": 67,
   "id": "60ff803d",
   "metadata": {},
   "outputs": [],
   "source": [
    "cm = confusion_matrix(y_true=y_test, y_pred=rounded_predictions)"
   ]
  },
  {
   "cell_type": "code",
   "execution_count": 68,
   "id": "3a2d413d",
   "metadata": {},
   "outputs": [
    {
     "data": {
      "image/png": "[encoded data removed]",
      "text/plain": [
       "<Figure size 432x288 with 2 Axes>"
      ]
     },
     "metadata": {
      "needs_background": "light"
     },
     "output_type": "display_data"
    }
   ],
   "source": [
    "cm_plot_labels = ['1','0']\n",
    "plot_confusion_matrix(cm=cm, classes=cm_plot_labels, title='Confusion Matrix')"
   ]
  }
 ],
 "metadata": {
  "kernelspec": {
   "display_name": "Python 3",
   "language": "python",
   "name": "python3"
  },
  "language_info": {
   "codemirror_mode": {
    "name": "ipython",
    "version": 3
   },
   "file_extension": ".py",
   "mimetype": "text/x-python",
   "name": "python",
   "nbconvert_exporter": "python",
   "pygments_lexer": "ipython3",
   "version": "3.8.8"
  }
 },
 "nbformat": 4,
 "nbformat_minor": 5
}
