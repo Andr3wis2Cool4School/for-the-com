{
 "cells": [
  {
   "cell_type": "markdown",
   "id": "51c65821",
   "metadata": {},
   "source": [
    "# By Yifeng Luo"
   ]
  },
  {
   "cell_type": "code",
   "execution_count": 1,
   "id": "ffbcefff",
   "metadata": {},
   "outputs": [],
   "source": [
    "import numpy as np \n",
    "import pandas as pd \n",
    "import matplotlib.pyplot as plt\n",
    "%matplotlib inline\n",
    "\n",
    "from sklearn.feature_extraction.text import CountVectorizer\n",
    "from sklearn.linear_model import LogisticRegression\n",
    "from sklearn.model_selection import KFold, cross_val_score\n",
    "from sklearn.metrics import confusion_matrix, recall_score, classification_report, accuracy_score\n",
    "\n",
    "import itertools"
   ]
  },
  {
   "cell_type": "code",
   "execution_count": 2,
   "id": "ae9e7e37",
   "metadata": {},
   "outputs": [
    {
     "name": "stdout",
     "output_type": "stream",
     "text": [
      " .\t\t\t\t\t\t  data\r\n",
      " ..\t\t\t\t\t\t  .git\r\n",
      "'1. data preprocessing + data exp.ipynb'\t  .gitignore\r\n",
      "'2. clean data.ipynb'\t\t\t\t  .ipynb_checkpoints\r\n",
      "'3. LogisticRegression +  Random forests.ipynb'   nedata\r\n"
     ]
    }
   ],
   "source": [
    "!ls -a"
   ]
  },
  {
   "cell_type": "code",
   "execution_count": 3,
   "id": "d5e02fda",
   "metadata": {},
   "outputs": [],
   "source": [
    "training = pd.read_csv('./nedata/training_data.csv')\n",
    "test = pd.read_csv('./nedata/test_data.csv')\n",
    "dev = pd.read_csv('./nedata/dev_data.csv')"
   ]
  },
  {
   "cell_type": "markdown",
   "id": "bb7ad547",
   "metadata": {},
   "source": [
    "### extract the text features\n",
    "\n",
    "And we are using bags-of-words as our word embedding methods"
   ]
  },
  {
   "cell_type": "code",
   "execution_count": 4,
   "id": "a8e5f1ad",
   "metadata": {},
   "outputs": [],
   "source": [
    "X_train = training.text.values\n",
    "y_train = training.label.values\n",
    "\n",
    "X_test = test.text.values\n",
    "y_test = test.label.values\n",
    "\n",
    "X_dev = dev.text.values\n",
    "y_dev = dev.label.values"
   ]
  },
  {
   "cell_type": "code",
   "execution_count": 5,
   "id": "cc10a22f",
   "metadata": {},
   "outputs": [],
   "source": [
    "vectorizer = CountVectorizer()"
   ]
  },
  {
   "cell_type": "code",
   "execution_count": 6,
   "id": "d4b60c32",
   "metadata": {},
   "outputs": [],
   "source": [
    "def fit_ve(vectorizer, train, test, dev):\n",
    "    vectorizer.fit(train)\n",
    "    X_train = vectorizer.transform(train)\n",
    "    X_test = vectorizer.transform(test)\n",
    "    X_dev = vectorizer.transform(dev)\n",
    "        \n",
    "    return X_train, X_test, X_dev"
   ]
  },
  {
   "cell_type": "code",
   "execution_count": 7,
   "id": "b2cc1aeb",
   "metadata": {},
   "outputs": [],
   "source": [
    "X_train, X_test, X_dev = fit_ve(vectorizer, X_train, X_test, X_dev)"
   ]
  },
  {
   "cell_type": "code",
   "execution_count": 8,
   "id": "75b1e124",
   "metadata": {},
   "outputs": [
    {
     "name": "stdout",
     "output_type": "stream",
     "text": [
      "X_train:  (4315, 8673)\n",
      "X_test:  (539, 8673)\n",
      "X_dev:  (540, 8673)\n"
     ]
    }
   ],
   "source": [
    "'''\n",
    "Rows and Columns in our metrics\n",
    "'''\n",
    "print('X_train: ', X_train.shape)\n",
    "print('X_test: ', X_test.shape)\n",
    "print('X_dev: ',X_dev.shape)"
   ]
  },
  {
   "cell_type": "code",
   "execution_count": 9,
   "id": "5648a980",
   "metadata": {},
   "outputs": [
    {
     "name": "stdout",
     "output_type": "stream",
     "text": [
      "[[0 0 0 ... 0 0 0]]\n",
      "8673\n"
     ]
    }
   ],
   "source": [
    "'''\n",
    "Glance to what inside of the metric\n",
    "The very first row in the training metric\n",
    "\n",
    "the columns is 8673 which is correct\n",
    "\n",
    "'''\n",
    "\n",
    "print(X_train[0].toarray())\n",
    "print(len(*X_train[0].toarray()))"
   ]
  },
  {
   "cell_type": "markdown",
   "id": "dbbeecc6",
   "metadata": {},
   "source": [
    "# LogisticRegression"
   ]
  },
  {
   "cell_type": "code",
   "execution_count": 10,
   "id": "b6e9c217",
   "metadata": {},
   "outputs": [],
   "source": [
    "'''\n",
    "Convert X_train, X_test, X_dev to dataframe\n",
    "'''\n",
    "\n",
    "X_train = pd.DataFrame(X_train.toarray())\n",
    "X_test = pd.DataFrame(X_test.toarray())\n",
    "X_dev = pd.DataFrame(X_dev.toarray())"
   ]
  },
  {
   "cell_type": "code",
   "execution_count": 11,
   "id": "ac7b2ccf",
   "metadata": {},
   "outputs": [],
   "source": [
    "y_train = pd.DataFrame(y_train)\n",
    "y_test = pd.DataFrame(y_test)\n",
    "y_dev = pd.DataFrame(y_dev)"
   ]
  },
  {
   "cell_type": "code",
   "execution_count": 12,
   "id": "d7ee8c01",
   "metadata": {},
   "outputs": [],
   "source": [
    "def printing_Kfold_scores(x_train,y_train):\n",
    "    fold = KFold(n_splits=5,shuffle=False) \n",
    "\n",
    "    # Different C parameters\n",
    "    c_param_range = [0.01,0.1,1,10,100]\n",
    "\n",
    "    results_table = pd.DataFrame(index = range(len(c_param_range),2), columns = ['C_parameter','Mean recall score'])\n",
    "    results_table['C_parameter'] = c_param_range\n",
    "\n",
    "    \n",
    "    j = 0\n",
    "    for c_param in c_param_range:\n",
    "        print('-------------------------------------------')\n",
    "        print('C parameter: ', c_param)\n",
    "        print('-------------------------------------------')\n",
    "        print('')\n",
    "\n",
    "        recall_accs = []\n",
    "        for train_index, test_index in fold.split(x_train, y_train):\n",
    "\n",
    "\n",
    "            \n",
    "            lr = LogisticRegression(C = c_param, penalty = 'l1', solver='liblinear', max_iter=100000)\n",
    "\n",
    "            \n",
    "            lr.fit(x_train.iloc[train_index,:],y_train.iloc[train_index,:].values.ravel())\n",
    "\n",
    "            # Predict values using the test indices in the training data\n",
    "            y_pred = lr.predict(x_train.iloc[train_index,:].values)\n",
    "\n",
    "            # Calculate the recall score and append it to a list for recall scores representing the current c_parameter\n",
    "            recall_acc = recall_score(y_train.iloc[train_index,:].values,y_pred)\n",
    "            recall_accs.append(recall_acc)\n",
    "            print(' recall score = ', recall_acc)\n",
    "\n",
    "        # The mean value of those recall scores is the metric we want to save and get hold of.\n",
    "        results_table.iloc[j,results_table.columns.get_loc('Mean recall score')] = np.mean(recall_accs)\n",
    "        j += 1\n",
    "        print('')\n",
    "        print('Mean recall score ', np.mean(recall_accs))\n",
    "        print('')\n",
    "\n",
    "    best_c = results_table.loc[results_table['Mean recall score'].astype(float).idxmax()]['C_parameter']\n",
    "    \n",
    "    # Finally, we can check which C parameter is the best amongst the chosen.\n",
    "    print('*********************************************************************************')\n",
    "    print('Best model to choose from cross validation is with C parameter = ', best_c)\n",
    "    print('*********************************************************************************')\n",
    "    \n",
    "    return best_c"
   ]
  },
  {
   "cell_type": "code",
   "execution_count": 13,
   "id": "8b5cf163",
   "metadata": {},
   "outputs": [
    {
     "name": "stdout",
     "output_type": "stream",
     "text": [
      "-------------------------------------------\n",
      "C parameter:  0.01\n",
      "-------------------------------------------\n",
      "\n",
      " recall score =  0.3477941176470588\n",
      " recall score =  0.3338192419825073\n",
      " recall score =  0.3530701754385965\n",
      " recall score =  0.33969185619955977\n",
      " recall score =  0.3326007326007326\n",
      "\n",
      "Mean recall score  0.341395224773691\n",
      "\n",
      "-------------------------------------------\n",
      "C parameter:  0.1\n",
      "-------------------------------------------\n",
      "\n",
      " recall score =  0.8294117647058824\n",
      " recall score =  0.8185131195335277\n",
      " recall score =  0.8369883040935673\n",
      " recall score =  0.8268525311812179\n",
      " recall score =  0.8241758241758241\n",
      "\n",
      "Mean recall score  0.8271883087380039\n",
      "\n",
      "-------------------------------------------\n",
      "C parameter:  1\n",
      "-------------------------------------------\n",
      "\n",
      " recall score =  0.8963235294117647\n",
      " recall score =  0.8892128279883382\n",
      " recall score =  0.8859649122807017\n",
      " recall score =  0.8870139398385913\n",
      " recall score =  0.895970695970696\n",
      "\n",
      "Mean recall score  0.8908971810980184\n",
      "\n",
      "-------------------------------------------\n",
      "C parameter:  10\n",
      "-------------------------------------------\n",
      "\n",
      " recall score =  0.9426470588235294\n",
      " recall score =  0.9395043731778425\n",
      " recall score =  0.9415204678362573\n",
      " recall score =  0.9317681584739546\n",
      " recall score =  0.9399267399267399\n",
      "\n",
      "Mean recall score  0.9390733596476648\n",
      "\n",
      "-------------------------------------------\n",
      "C parameter:  100\n",
      "-------------------------------------------\n",
      "\n",
      " recall score =  0.9411764705882353\n",
      " recall score =  0.9402332361516035\n",
      " recall score =  0.9415204678362573\n",
      " recall score =  0.9325018341892883\n",
      " recall score =  0.9399267399267399\n",
      "\n",
      "Mean recall score  0.939071749738425\n",
      "\n",
      "*********************************************************************************\n",
      "Best model to choose from cross validation is with C parameter =  10.0\n",
      "*********************************************************************************\n"
     ]
    }
   ],
   "source": [
    "best_c = printing_Kfold_scores(X_train, y_train)"
   ]
  },
  {
   "cell_type": "markdown",
   "id": "4f9bb287",
   "metadata": {},
   "source": [
    "**The mean_recall for c= 100 is the best so we use c = 100**"
   ]
  },
  {
   "cell_type": "code",
   "execution_count": 14,
   "id": "49954003",
   "metadata": {},
   "outputs": [],
   "source": [
    "def plot_confusion_matrix(cm, classes, title='Confusion Matrix', cmap=plt.cm.Blues):\n",
    "    plt.imshow(cm, interpolation='nearest', cmap=cmap)\n",
    "    plt.title(title)\n",
    "    plt.colorbar()\n",
    "    tick_marks = np.arange(len(classes))\n",
    "    plt.xticks(tick_marks, classes, rotation=0)\n",
    "    plt.yticks(tick_marks, classes)\n",
    "\n",
    "    thresh = cm.max() / 2.\n",
    "    for i, j in itertools.product(range(cm.shape[0]), range(cm.shape[1])):\n",
    "        plt.text(j, i, cm[i, j],\n",
    "                 horizontalalignment=\"center\",\n",
    "                 color=\"white\" if cm[i, j] > thresh else \"black\")\n",
    "\n",
    "    plt.tight_layout()\n",
    "    plt.ylabel('True label')\n",
    "    plt.xlabel('Predicted label')"
   ]
  },
  {
   "cell_type": "code",
   "execution_count": 15,
   "id": "40d69445",
   "metadata": {},
   "outputs": [
    {
     "data": {
      "text/plain": [
       "array([0, 0, 1, 0, 1, 0, 0, 1, 0, 0, 0, 0, 0, 1, 0, 1, 1, 0, 0, 0, 0, 0,\n",
       "       0, 1, 0, 0, 0, 0, 1, 0, 1, 1, 1, 0, 1, 1, 0, 0, 0, 1, 0, 0, 1, 1,\n",
       "       1, 1, 1, 0, 1, 1, 1, 0, 0, 1, 0, 1, 0, 0, 1, 0, 1, 0, 0, 0, 0, 0,\n",
       "       1, 0, 0, 1, 1, 0, 1, 0, 0, 0, 1, 0, 0, 0, 1, 1, 1, 0, 1, 1, 1, 0,\n",
       "       0, 1, 0, 1, 0, 0, 1, 0, 1, 1, 0, 0, 0, 0, 0, 1, 1, 0, 0, 1, 1, 0,\n",
       "       1, 0, 0, 0, 1, 0, 0, 0, 1, 0, 1, 1, 0, 1, 1, 0, 1, 0, 0, 0, 0, 0,\n",
       "       1, 0, 0, 0, 0, 1, 0, 0, 1, 0, 1, 1, 0, 0, 0, 1, 0, 0, 0, 1, 0, 1,\n",
       "       0, 0, 1, 0, 1, 0, 0, 1, 0, 0, 1, 0, 0, 1, 1, 0, 1, 0, 1, 1, 0, 0,\n",
       "       1, 0, 0, 0, 0, 0, 1, 1, 0, 0, 0, 1, 0, 0, 0, 0, 1, 1, 0, 0, 0, 1,\n",
       "       0, 0, 0, 1, 1, 0, 0, 0, 0, 1, 0, 0, 1, 1, 0, 0, 0, 0, 1, 1, 1, 1,\n",
       "       1, 1, 1, 1, 0, 0, 0, 0, 0, 0, 0, 1, 0, 0, 1, 1, 1, 0, 1, 1, 0, 0,\n",
       "       0, 1, 0, 0, 1, 1, 0, 1, 1, 0, 1, 0, 1, 1, 1, 0, 1, 0, 1, 0, 1, 1,\n",
       "       1, 1, 0, 0, 0, 0, 0, 0, 0, 0, 1, 1, 0, 0, 1, 1, 1, 0, 0, 0, 0, 0,\n",
       "       1, 1, 1, 0, 0, 0, 1, 0, 0, 1, 1, 1, 1, 1, 0, 1, 0, 0, 0, 1, 0, 0,\n",
       "       0, 0, 0, 0, 1, 0, 1, 1, 0, 0, 0, 0, 0, 0, 0, 0, 1, 0, 0, 1, 0, 0,\n",
       "       0, 1, 0, 1, 0, 0, 1, 0, 1, 1, 0, 0, 0, 0, 0, 1, 0, 0, 1, 1, 1, 1,\n",
       "       1, 1, 0, 0, 1, 1, 1, 0, 0, 1, 0, 0, 0, 0, 0, 1, 0, 0, 0, 0, 0, 0,\n",
       "       0, 0, 0, 0, 1, 1, 0, 1, 1, 0, 1, 0, 1, 1, 0, 0, 0, 0, 0, 0, 0, 0,\n",
       "       1, 0, 1, 1, 0, 0, 0, 0, 1, 1, 1, 0, 1, 1, 1, 0, 0, 1, 1, 0, 0, 0,\n",
       "       0, 1, 1, 1, 0, 0, 1, 1, 0, 1, 1, 0, 1, 0, 0, 1, 0, 0, 1, 1, 1, 0,\n",
       "       1, 0, 0, 0, 0, 1, 0, 1, 0, 0, 0, 0, 0, 0, 1, 0, 1, 1, 1, 1, 0, 0,\n",
       "       0, 1, 1, 0, 1, 1, 1, 1, 1, 0, 0, 1, 0, 0, 0, 1, 1, 1, 0, 0, 1, 0,\n",
       "       0, 0, 0, 0, 0, 1, 1, 1, 0, 0, 1, 0, 0, 1, 0, 1, 1, 1, 1, 1, 0, 0,\n",
       "       1, 0, 0, 1, 1, 1, 1, 1, 0, 0, 0, 0, 1, 1, 0, 1, 1, 1, 0, 1, 1, 1,\n",
       "       0, 1, 0, 0, 1, 0, 1, 0, 1, 1, 0])"
      ]
     },
     "execution_count": 15,
     "metadata": {},
     "output_type": "execute_result"
    }
   ],
   "source": [
    "lr = LogisticRegression(C = best_c, penalty = 'l1', solver='liblinear')\n",
    "lr.fit(X_train,y_train.values.ravel())\n",
    "y_pred = lr.predict(X_test.values)\n",
    "y_pred"
   ]
  },
  {
   "cell_type": "code",
   "execution_count": 16,
   "id": "dbfe10ac",
   "metadata": {},
   "outputs": [
    {
     "name": "stdout",
     "output_type": "stream",
     "text": [
      "Recall metric in the testing dataset:  0.8805970149253731\n"
     ]
    },
    {
     "data": {
      "image/png": "[encoded data removed]",
      "text/plain": [
       "<Figure size 432x288 with 2 Axes>"
      ]
     },
     "metadata": {
      "needs_background": "light"
     },
     "output_type": "display_data"
    }
   ],
   "source": [
    "cnf_matrix = confusion_matrix(y_test,y_pred)\n",
    "np.set_printoptions(precision=2)\n",
    "print(\"Recall metric in the testing dataset: \", cnf_matrix[1,1]/(cnf_matrix[1,0]+cnf_matrix[1,1]))\n",
    "# Plot non-normalized confusion matrix\n",
    "class_names = [0,1]\n",
    "plt.figure()\n",
    "plot_confusion_matrix(cnf_matrix\n",
    "                      , classes=class_names\n",
    "                      , title='Confusion matrix')\n",
    "plt.show()"
   ]
  },
  {
   "cell_type": "code",
   "execution_count": 17,
   "id": "b4a6deb2",
   "metadata": {},
   "outputs": [
    {
     "name": "stdout",
     "output_type": "stream",
     "text": [
      "Accuracy: 0.86\n"
     ]
    }
   ],
   "source": [
    "print(\"Accuracy: %.2f\" % accuracy_score(y_test,y_pred))"
   ]
  },
  {
   "cell_type": "markdown",
   "id": "dda04cb8",
   "metadata": {},
   "source": [
    "# Changing the classification threshold\n",
    "\n",
    "- Initially, you build the classification model and then you predict unseen data using it.\n",
    "- We previously used the \"predict()\" method to decided whether a record should belong to \"1\" or \"0\".\n",
    "- There is another method \"predict_proba()\".\n",
    "    - his method returns the probabilities for each class. The idea is that by changing the threshold to assign a record to class 1, we can control precision and recall."
   ]
  },
  {
   "cell_type": "code",
   "execution_count": 18,
   "id": "2421e30a",
   "metadata": {},
   "outputs": [
    {
     "name": "stdout",
     "output_type": "stream",
     "text": [
      "Recall metric in the testing dataset:  1.0\n",
      "Recall metric in the testing dataset:  0.9850746268656716\n",
      "Recall metric in the testing dataset:  0.9104477611940298\n",
      "Recall metric in the testing dataset:  0.900497512437811\n",
      "Recall metric in the testing dataset:  0.3482587064676617\n",
      "Recall metric in the testing dataset:  0.3482587064676617\n",
      "Recall metric in the testing dataset:  0.3482587064676617\n",
      "Recall metric in the testing dataset:  0.3482587064676617\n",
      "Recall metric in the testing dataset:  0.0\n"
     ]
    },
    {
     "data": {
      "image/png": "[encoded data removed]",
      "text/plain": [
       "<Figure size 720x720 with 18 Axes>"
      ]
     },
     "metadata": {
      "needs_background": "light"
     },
     "output_type": "display_data"
    }
   ],
   "source": [
    "lr = LogisticRegression(C = 0.01, penalty = 'l1', solver='liblinear')\n",
    "lr.fit(X_train,y_train.values.ravel())\n",
    "y_pred_proba = lr.predict_proba(X_test.values)\n",
    "\n",
    "thresholds = [0.1,0.2,0.3,0.4,0.5,0.6,0.7,0.8,0.9]\n",
    "\n",
    "plt.figure(figsize=(10,10))\n",
    "\n",
    "j = 1\n",
    "for i in thresholds:\n",
    "    y_test_predictions_high_recall = y_pred_proba[:,1] > i\n",
    "    \n",
    "    plt.subplot(3,3,j)\n",
    "    j += 1\n",
    "    \n",
    "    # Compute confusion matrix\n",
    "    cnf_matrix = confusion_matrix(y_test,y_test_predictions_high_recall)\n",
    "    np.set_printoptions(precision=2)\n",
    "\n",
    "    print(\"Recall metric in the testing dataset: \", cnf_matrix[1,1]/(cnf_matrix[1,0]+cnf_matrix[1,1]))\n",
    "\n",
    "    # Plot non-normalized confusion matrix\n",
    "    class_names = [0,1]\n",
    "    plot_confusion_matrix(cnf_matrix\n",
    "                          , classes=class_names\n",
    "                          , title='Threshold >= %s'%i) "
   ]
  },
  {
   "cell_type": "markdown",
   "id": "d480e6d1",
   "metadata": {},
   "source": [
    "**Threshold >=0.2 we can achieve recall = 0.9850746268656716 in testing dataset**"
   ]
  },
  {
   "cell_type": "markdown",
   "id": "59a72169",
   "metadata": {},
   "source": [
    "#  Random forests"
   ]
  },
  {
   "cell_type": "code",
   "execution_count": 19,
   "id": "41743d41",
   "metadata": {},
   "outputs": [],
   "source": [
    "from sklearn.ensemble import RandomForestClassifier"
   ]
  },
  {
   "cell_type": "code",
   "execution_count": 20,
   "id": "0a048262",
   "metadata": {},
   "outputs": [
    {
     "data": {
      "text/plain": [
       "RandomForestClassifier(criterion='entropy', n_estimators=10, n_jobs=1,\n",
       "                       random_state=1)"
      ]
     },
     "execution_count": 20,
     "metadata": {},
     "output_type": "execute_result"
    }
   ],
   "source": [
    "forest = RandomForestClassifier(criterion = 'entropy'\n",
    "                                , n_estimators = 10\n",
    "                                , random_state = 1\n",
    "                                , n_jobs = 1)\n",
    "\n",
    "forest.fit(X_train, y_train.values.ravel())"
   ]
  },
  {
   "cell_type": "code",
   "execution_count": 21,
   "id": "e43c14fd",
   "metadata": {},
   "outputs": [
    {
     "name": "stdout",
     "output_type": "stream",
     "text": [
      "Accuracy: 0.86\n"
     ]
    }
   ],
   "source": [
    "Y_pred_RF = forest.predict(X_test)\n",
    "print(\"Accuracy: %.2f\" % accuracy_score(y_test,Y_pred_RF))"
   ]
  },
  {
   "cell_type": "code",
   "execution_count": 22,
   "id": "61b9bb95",
   "metadata": {},
   "outputs": [
    {
     "name": "stdout",
     "output_type": "stream",
     "text": [
      "Recall metric in the testing dataset:  0.8756218905472637\n"
     ]
    },
    {
     "data": {
      "image/png": "[encoded data removed]",
      "text/plain": [
       "<Figure size 432x288 with 2 Axes>"
      ]
     },
     "metadata": {
      "needs_background": "light"
     },
     "output_type": "display_data"
    }
   ],
   "source": [
    "cnf_matrix = confusion_matrix(y_test,Y_pred_RF)\n",
    "np.set_printoptions(precision=2)\n",
    "print(\"Recall metric in the testing dataset: \", cnf_matrix[1,1]/(cnf_matrix[1,0]+cnf_matrix[1,1]))\n",
    "# Plot non-normalized confusion matrix\n",
    "class_names = [0,1]\n",
    "plt.figure()\n",
    "plot_confusion_matrix(cnf_matrix\n",
    "                      , classes=class_names\n",
    "                      , title='Confusion matrix')\n",
    "plt.show()"
   ]
  }
 ],
 "metadata": {
  "kernelspec": {
   "display_name": "Python 3",
   "language": "python",
   "name": "python3"
  },
  "language_info": {
   "codemirror_mode": {
    "name": "ipython",
    "version": 3
   },
   "file_extension": ".py",
   "mimetype": "text/x-python",
   "name": "python",
   "nbconvert_exporter": "python",
   "pygments_lexer": "ipython3",
   "version": "3.6.13"
  }
 },
 "nbformat": 4,
 "nbformat_minor": 5
}
