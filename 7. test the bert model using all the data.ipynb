{
 "cells": [
  {
   "cell_type": "markdown",
   "id": "f5ca0058",
   "metadata": {},
   "source": [
    "# By Yifeng Luo "
   ]
  },
  {
   "cell_type": "code",
   "execution_count": 1,
   "id": "40da6069",
   "metadata": {},
   "outputs": [],
   "source": [
    "from os import walk\n",
    "import pandas as pd"
   ]
  },
  {
   "cell_type": "code",
   "execution_count": 2,
   "id": "597295ef",
   "metadata": {
    "scrolled": true
   },
   "outputs": [
    {
     "data": {
      "text/plain": [
       "['周杰伦王俊凯成为英雄联盟代言人-2.csv',\n",
       " '湖人获NBA总决赛冠军-1.csv',\n",
       " '《乘风破浪的姐姐》成团之夜-2.csv',\n",
       " '《网络直播营销活动行为规范》7月1日实施.csv',\n",
       " '3人伪造老干妈印章与腾讯签合同被刑拘.csv',\n",
       " '汪涵李雪琴李佳琦直播被中消协点名.csv',\n",
       " '《乘风破浪的姐姐》成团之夜-1.csv',\n",
       " '湖人获NBA总决赛冠军-2.csv',\n",
       " '冒名顶替上大学拟写入刑法.csv',\n",
       " '司机为救婴儿连闯红灯家属拒绝作证.csv',\n",
       " '深圳调整商品住房限购年限.csv',\n",
       " '拼多多首度实现盈利.csv',\n",
       " '央视曝光汉堡王用过期面包做汉堡.csv',\n",
       " '王勉获得《脱口秀大会》冠军.csv',\n",
       " '武汉蝉联全国文明城市.csv',\n",
       " '周杰伦王俊凯成为英雄联盟代言人-1.csv',\n",
       " '上海首个小区停用丰巢快递柜.csv',\n",
       " '2020天猫双11总成交额4982亿元.csv',\n",
       " '周杰伦王俊凯成为英雄联盟代言人-3.csv']"
      ]
     },
     "execution_count": 2,
     "metadata": {},
     "output_type": "execute_result"
    }
   ],
   "source": [
    "# weibo\n",
    "weibo = next(walk('./weibo'), (None, None, []))[2]\n",
    "weibo"
   ]
  },
  {
   "cell_type": "code",
   "execution_count": 3,
   "id": "17d7dfbe",
   "metadata": {},
   "outputs": [
    {
     "data": {
      "text/plain": [
       "['湖人获NBA总决赛冠军-1.csv',\n",
       " '《网络直播营销活动行为规范》7月1日实施.csv',\n",
       " '3人伪造老干妈印章与腾讯签合同被刑拘.csv',\n",
       " '周杰伦王俊凯成为英雄联盟代言人.csv',\n",
       " '汪涵李雪琴李佳琦直播被中消协点名.csv',\n",
       " '湖人获NBA总决赛冠军-2.csv',\n",
       " '冒名顶替上大学拟写入刑法.csv',\n",
       " '司机为救婴儿连闯红灯家属拒绝作证.csv',\n",
       " '深圳调整商品住房限购年限.csv',\n",
       " '拼多多首度实现盈利.csv',\n",
       " '央视曝光汉堡王用过期面包做汉堡.csv',\n",
       " '王勉获得《脱口秀大会》冠军.csv',\n",
       " '武汉蝉联全国文明城市.csv',\n",
       " '上海首个小区停用丰巢快递柜.csv',\n",
       " '《乘风破浪的姐姐》成团之夜.csv',\n",
       " '2020天猫双11总成交额4982亿元.csv']"
      ]
     },
     "execution_count": 3,
     "metadata": {},
     "output_type": "execute_result"
    }
   ],
   "source": [
    "# not weibo\n",
    "no_weibo = next(walk('./no_weibo'), (None, None, []))[2]\n",
    "no_weibo"
   ]
  },
  {
   "cell_type": "code",
   "execution_count": 4,
   "id": "79c88d04",
   "metadata": {},
   "outputs": [],
   "source": [
    "'''\n",
    "en==娱乐\n",
    "bu==商业\n",
    "so==社会\n",
    "'''\n",
    "domain_dict = {\n",
    "    'en': ['王勉获得《脱口秀大会》冠军.csv', \n",
    "           '湖人获NBA总决赛冠军-1.csv', \n",
    "           '湖人获NBA总决赛冠军-2.csv', \n",
    "           '《乘风破浪的姐姐》成团之夜-2.csv',\n",
    "           '《乘风破浪的姐姐》成团之夜-1.csv',\n",
    "           '周杰伦王俊凯成为英雄联盟代言人-2.csv',\n",
    "           '周杰伦王俊凯成为英雄联盟代言人-1.csv'],\n",
    "    'bu': ['拼多多首度实现盈利.csv',\n",
    "           '2020天猫双11总成交额4982亿元.csv',\n",
    "           '3人伪造老干妈印章与腾讯签合同被刑拘.csv',\n",
    "           '《网络直播营销活动行为规范》7月1日实施.csv'],\n",
    "    'so': ['深圳调整商品住房限购年限.csv',\n",
    "           '武汉蝉联全国文明城市.csv',\n",
    "           '司机为救婴儿连闯红灯家属拒绝作证.csv',\n",
    "           '央视曝光汉堡王用过期面包做汉堡.csv',\n",
    "           '上海首个小区停用丰巢快递柜.csv',\n",
    "           '冒名顶替上大学拟写入刑法.csv',\n",
    "           '汪涵李雪琴李佳琦直播被中消协点名.csv']\n",
    "}"
   ]
  },
  {
   "cell_type": "code",
   "execution_count": 5,
   "id": "b3d9a83a",
   "metadata": {},
   "outputs": [
    {
     "name": "stdout",
     "output_type": "stream",
     "text": [
      "en\n",
      "['王勉获得《脱口秀大会》冠军.csv', '湖人获NBA总决赛冠军-1.csv', '湖人获NBA总决赛冠军-2.csv', '《乘风破浪的姐姐》成团之夜-2.csv', '《乘风破浪的姐姐》成团之夜-1.csv', '周杰伦王俊凯成为英雄联盟代言人-2.csv', '周杰伦王俊凯成为英雄联盟代言人-1.csv']\n",
      "bu\n",
      "['拼多多首度实现盈利.csv', '2020天猫双11总成交额4982亿元.csv', '3人伪造老干妈印章与腾讯签合同被刑拘.csv', '《网络直播营销活动行为规范》7月1日实施.csv']\n",
      "so\n",
      "['深圳调整商品住房限购年限.csv', '武汉蝉联全国文明城市.csv', '司机为救婴儿连闯红灯家属拒绝作证.csv', '央视曝光汉堡王用过期面包做汉堡.csv', '上海首个小区停用丰巢快递柜.csv', '冒名顶替上大学拟写入刑法.csv', '汪涵李雪琴李佳琦直播被中消协点名.csv']\n"
     ]
    }
   ],
   "source": [
    "for domain, file_list in domain_dict.items():\n",
    "    print(domain)\n",
    "    print(file_list)"
   ]
  },
  {
   "cell_type": "code",
   "execution_count": 6,
   "id": "e99db1a3",
   "metadata": {},
   "outputs": [],
   "source": [
    "filepath = './weibo/'\n",
    "encoding = 'gb18030'"
   ]
  },
  {
   "cell_type": "markdown",
   "id": "d4038b60",
   "metadata": {},
   "source": [
    "**en**"
   ]
  },
  {
   "cell_type": "code",
   "execution_count": 7,
   "id": "34a2dc03",
   "metadata": {},
   "outputs": [],
   "source": [
    "df1 = pd.read_csv(filepath + '王勉获得《脱口秀大会》冠军.csv', encoding = encoding)"
   ]
  },
  {
   "cell_type": "code",
   "execution_count": 8,
   "id": "ce0d6a27",
   "metadata": {},
   "outputs": [],
   "source": [
    "df2 = pd.read_csv(filepath + '湖人获NBA总决赛冠军-1.csv', encoding = encoding)"
   ]
  },
  {
   "cell_type": "code",
   "execution_count": 9,
   "id": "aea19963",
   "metadata": {},
   "outputs": [],
   "source": [
    "df3 = pd.read_csv(filepath + '湖人获NBA总决赛冠军-2.csv', encoding = encoding)"
   ]
  },
  {
   "cell_type": "code",
   "execution_count": 10,
   "id": "8726b319",
   "metadata": {},
   "outputs": [],
   "source": [
    "df4 = pd.read_csv(filepath + '《乘风破浪的姐姐》成团之夜-2.csv', encoding = encoding)"
   ]
  },
  {
   "cell_type": "code",
   "execution_count": 11,
   "id": "3daa6da7",
   "metadata": {},
   "outputs": [],
   "source": [
    "df5 = pd.read_csv(filepath + '《乘风破浪的姐姐》成团之夜-1.csv', encoding = encoding)"
   ]
  },
  {
   "cell_type": "code",
   "execution_count": 12,
   "id": "32bfd39e",
   "metadata": {},
   "outputs": [],
   "source": [
    "df6 = pd.read_csv(filepath + '周杰伦王俊凯成为英雄联盟代言人-2.csv', encoding = encoding)"
   ]
  },
  {
   "cell_type": "code",
   "execution_count": 13,
   "id": "cccf5224",
   "metadata": {},
   "outputs": [],
   "source": [
    "df7 = pd.read_csv(filepath + '周杰伦王俊凯成为英雄联盟代言人-1.csv', encoding = encoding)"
   ]
  },
  {
   "cell_type": "markdown",
   "id": "0a386f8f",
   "metadata": {},
   "source": [
    "**bu**"
   ]
  },
  {
   "cell_type": "code",
   "execution_count": 14,
   "id": "b2e854ac",
   "metadata": {},
   "outputs": [],
   "source": [
    "df8 = pd.read_csv(filepath + '拼多多首度实现盈利.csv', encoding = encoding)"
   ]
  },
  {
   "cell_type": "code",
   "execution_count": 15,
   "id": "a3f2cd7c",
   "metadata": {},
   "outputs": [],
   "source": [
    "df9 = pd.read_csv(filepath + '2020天猫双11总成交额4982亿元.csv', encoding = encoding)"
   ]
  },
  {
   "cell_type": "code",
   "execution_count": 16,
   "id": "9badaab6",
   "metadata": {},
   "outputs": [],
   "source": [
    "df10 = pd.read_csv(filepath + '3人伪造老干妈印章与腾讯签合同被刑拘.csv', encoding = encoding)"
   ]
  },
  {
   "cell_type": "code",
   "execution_count": 17,
   "id": "a7c3e0d2",
   "metadata": {},
   "outputs": [],
   "source": [
    "df11 = pd.read_csv(filepath + '《网络直播营销活动行为规范》7月1日实施.csv', encoding = encoding)"
   ]
  },
  {
   "cell_type": "markdown",
   "id": "42018186",
   "metadata": {},
   "source": [
    "**so**"
   ]
  },
  {
   "cell_type": "code",
   "execution_count": 18,
   "id": "f93b40b9",
   "metadata": {},
   "outputs": [],
   "source": [
    "df12 = pd.read_csv(filepath + '深圳调整商品住房限购年限.csv', encoding = encoding)"
   ]
  },
  {
   "cell_type": "code",
   "execution_count": 19,
   "id": "ddb43389",
   "metadata": {},
   "outputs": [],
   "source": [
    "df13 = pd.read_csv(filepath + '武汉蝉联全国文明城市.csv', encoding = encoding)"
   ]
  },
  {
   "cell_type": "code",
   "execution_count": 20,
   "id": "7bbccb94",
   "metadata": {},
   "outputs": [],
   "source": [
    "df14 = pd.read_csv(filepath + '司机为救婴儿连闯红灯家属拒绝作证.csv', encoding = encoding)"
   ]
  },
  {
   "cell_type": "code",
   "execution_count": 21,
   "id": "abd44fdb",
   "metadata": {},
   "outputs": [],
   "source": [
    "df15 = pd.read_csv(filepath + '央视曝光汉堡王用过期面包做汉堡.csv', encoding = encoding)"
   ]
  },
  {
   "cell_type": "code",
   "execution_count": 22,
   "id": "797f23a8",
   "metadata": {},
   "outputs": [],
   "source": [
    "df16 = pd.read_csv(filepath + '央视曝光汉堡王用过期面包做汉堡.csv', encoding = encoding)"
   ]
  },
  {
   "cell_type": "code",
   "execution_count": 23,
   "id": "22f0430f",
   "metadata": {},
   "outputs": [],
   "source": [
    "df17 = pd.read_csv(filepath + '上海首个小区停用丰巢快递柜.csv', encoding = encoding)"
   ]
  },
  {
   "cell_type": "code",
   "execution_count": 24,
   "id": "9a6f9d0d",
   "metadata": {},
   "outputs": [],
   "source": [
    "df18 = pd.read_csv(filepath + '冒名顶替上大学拟写入刑法.csv', encoding = encoding)"
   ]
  },
  {
   "cell_type": "code",
   "execution_count": 25,
   "id": "6c383a3d",
   "metadata": {},
   "outputs": [],
   "source": [
    "df19 = pd.read_csv(filepath + '汪涵李雪琴李佳琦直播被中消协点名.csv', encoding = encoding)"
   ]
  },
  {
   "cell_type": "code",
   "execution_count": 34,
   "id": "4b77bd7f",
   "metadata": {},
   "outputs": [],
   "source": [
    "df1 = df1.sample(n=2000, replace=True)\n",
    "df2 = df2.sample(n=2000, replace=True)\n",
    "df3 = df3.sample(n=2000, replace=True)\n",
    "df4 = df4.sample(n=2000, replace=True)\n",
    "df5 = df5.sample(n=2000, replace=True)\n",
    "df6 = df6.sample(n=2000, replace=True)\n",
    "df7 = df7.sample(n=2000, replace=True)\n",
    "df8 = df8.sample(n=2000, replace=True)\n",
    "df9 = df9.sample(n=2000, replace=True)\n",
    "df10 = df10.sample(n=2000, replace=True)\n",
    "df11 = df11.sample(n=2000, replace=True)\n",
    "df12 = df12.sample(n=2000, replace=True)\n",
    "df13 = df13.sample(n=2000, replace=True)\n",
    "df14 = df14.sample(n=2000, replace=True)\n",
    "df15 = df15.sample(n=2000, replace=True)\n",
    "df16 = df16.sample(n=2000, replace=True)\n",
    "df17 = df17.sample(n=2000, replace=True)\n",
    "df18 = df18.sample(n=2000, replace=True)\n",
    "df19 = df19.sample(n=2000, replace=True)"
   ]
  },
  {
   "cell_type": "code",
   "execution_count": 36,
   "id": "39a24bf8",
   "metadata": {},
   "outputs": [],
   "source": [
    "df_en = df1.append(df2)\n",
    "df_en = df_en.append(df3)\n",
    "df_en = df_en.append(df4)\n",
    "df_en = df_en.append(df5)\n",
    "df_en = df_en.append(df6)\n",
    "df_en = df_en.append(df7)\n",
    "\n",
    "df_bu = df8.append(df9)\n",
    "df_bu = df_bu.append(df10)\n",
    "df_bu = df_bu.append(df11)\n",
    "\n",
    "df_so = df12.append(df13)\n",
    "df_so = df_so.append(df14)\n",
    "df_so = df_so.append(df15)\n",
    "df_so = df_so.append(df16)\n",
    "df_so = df_so.append(df17)\n",
    "df_so = df_so.append(df18)\n",
    "df_so = df_so.append(df19)"
   ]
  },
  {
   "cell_type": "code",
   "execution_count": 41,
   "id": "daa79dfe",
   "metadata": {},
   "outputs": [],
   "source": [
    "df_en.to_csv('./test_data/en_data.csv', encoding = 'utf-8')\n",
    "df_bu.to_csv('./test_data/bu_data.csv', encoding ='utf-8')\n",
    "df_so.to_csv('./test_data/so_data.csv', encoding = 'utf-8')"
   ]
  }
 ],
 "metadata": {
  "kernelspec": {
   "display_name": "Python 3",
   "language": "python",
   "name": "python3"
  },
  "language_info": {
   "codemirror_mode": {
    "name": "ipython",
    "version": 3
   },
   "file_extension": ".py",
   "mimetype": "text/x-python",
   "name": "python",
   "nbconvert_exporter": "python",
   "pygments_lexer": "ipython3",
   "version": "3.6.13"
  }
 },
 "nbformat": 4,
 "nbformat_minor": 5
}
